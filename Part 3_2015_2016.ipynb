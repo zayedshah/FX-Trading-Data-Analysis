{
 "cells": [
  {
   "cell_type": "markdown",
   "metadata": {},
   "source": [
    "# FX Trading Data Analysis"
   ]
  },
  {
   "cell_type": "markdown",
   "metadata": {},
   "source": [
    "## Part 3 - Year on Year Analysis (2015 and 2016)"
   ]
  },
  {
   "cell_type": "markdown",
   "metadata": {},
   "source": [
    "### Introduction"
   ]
  },
  {
   "cell_type": "markdown",
   "metadata": {},
   "source": [
    "Now that we are done with analysis for [2015 (Part 1)](http://nbviewer.jupyter.org/github/zayedshah/FX-Trading-Data-Analysis/blob/master/Part%201_2015.ipynb) and [2016 (Part 2)](http://nbviewer.jupyter.org/github/zayedshah/FX-Trading-Data-Analysis/blob/master/Part%202_2016.ipynb)\n",
    ", lets do a year-on-year analysis for those 2 years.\n",
    "\n",
    "We have seen that 2016 performance was less volatile than 2015. Lets dive in and see the comparison between the 2 years from a few angles. I think we will see some interesting observations."
   ]
  },
  {
   "cell_type": "markdown",
   "metadata": {},
   "source": [
    "### Getting in the Data"
   ]
  },
  {
   "cell_type": "markdown",
   "metadata": {},
   "source": [
    "Lets import the usual Python modules - pandas, numpy, matplotlib and seaborn."
   ]
  },
  {
   "cell_type": "code",
   "execution_count": 1,
   "metadata": {
    "collapsed": true
   },
   "outputs": [],
   "source": [
    "import pandas as pd\n",
    "import numpy as np\n",
    "import matplotlib.pyplot as plt\n",
    "import seaborn as sns\n",
    "\n",
    "%matplotlib inline"
   ]
  },
  {
   "cell_type": "markdown",
   "metadata": {},
   "source": [
    "I have kept the trades separately for the 2 years. Below I read them in."
   ]
  },
  {
   "cell_type": "code",
   "execution_count": 2,
   "metadata": {
    "collapsed": true
   },
   "outputs": [],
   "source": [
    "trades_2015 = pd.read_excel('Trades/Trades 2015.xlsx',sheetname='Trades')\n",
    "trades_2016 = pd.read_excel('Trades/Trades 2016.xlsx',sheetname='Trades')"
   ]
  },
  {
   "cell_type": "markdown",
   "metadata": {},
   "source": [
    "I am combining the trades together."
   ]
  },
  {
   "cell_type": "code",
   "execution_count": 3,
   "metadata": {
    "collapsed": true
   },
   "outputs": [],
   "source": [
    "df = pd.concat([trades_2015, trades_2016])"
   ]
  },
  {
   "cell_type": "markdown",
   "metadata": {},
   "source": [
    "### Checking the Data"
   ]
  },
  {
   "cell_type": "markdown",
   "metadata": {},
   "source": [
    "Now that we read the data in, lets see the row count.\n",
    "\n",
    "We see 2583 - this should be the total number of trades for the 2 years.\n",
    "\n",
    "Observe that Close column is object data type - we will need to change it to datetime to perform operations on it. We will take care of it few steps later."
   ]
  },
  {
   "cell_type": "code",
   "execution_count": 4,
   "metadata": {
    "scrolled": true
   },
   "outputs": [
    {
     "name": "stdout",
     "output_type": "stream",
     "text": [
      "<class 'pandas.core.frame.DataFrame'>\n",
      "Int64Index: 2583 entries, 0 to 462\n",
      "Data columns (total 12 columns):\n",
      "Ticket #      2583 non-null int64\n",
      "Symbol        2583 non-null object\n",
      "Volume        2583 non-null int64\n",
      "Open          2583 non-null object\n",
      "Close         2583 non-null object\n",
      "B/S           2583 non-null object\n",
      "Sold          2583 non-null float64\n",
      "Bought        2583 non-null float64\n",
      "Gross P/L     2583 non-null float64\n",
      "Rollover      2583 non-null float64\n",
      "Net P/L       2583 non-null float64\n",
      "Created By    2583 non-null int64\n",
      "dtypes: float64(5), int64(3), object(4)\n",
      "memory usage: 262.3+ KB\n"
     ]
    }
   ],
   "source": [
    "df.info()"
   ]
  },
  {
   "cell_type": "markdown",
   "metadata": {},
   "source": [
    "We can verify that the count is indeed the sum of the trades from 2015 and 2016."
   ]
  },
  {
   "cell_type": "code",
   "execution_count": 5,
   "metadata": {},
   "outputs": [
    {
     "data": {
      "text/plain": [
       "2583"
      ]
     },
     "execution_count": 5,
     "metadata": {},
     "output_type": "execute_result"
    }
   ],
   "source": [
    "len(trades_2015) + len(trades_2016)"
   ]
  },
  {
   "cell_type": "markdown",
   "metadata": {},
   "source": [
    "Lets take a look at the first few trades, and verify that it looks goods.\n",
    "\n",
    "So far so good."
   ]
  },
  {
   "cell_type": "code",
   "execution_count": 6,
   "metadata": {},
   "outputs": [
    {
     "data": {
      "text/html": [
       "<div>\n",
       "<style>\n",
       "    .dataframe thead tr:only-child th {\n",
       "        text-align: right;\n",
       "    }\n",
       "\n",
       "    .dataframe thead th {\n",
       "        text-align: left;\n",
       "    }\n",
       "\n",
       "    .dataframe tbody tr th {\n",
       "        vertical-align: top;\n",
       "    }\n",
       "</style>\n",
       "<table border=\"1\" class=\"dataframe\">\n",
       "  <thead>\n",
       "    <tr style=\"text-align: right;\">\n",
       "      <th></th>\n",
       "      <th>Ticket #</th>\n",
       "      <th>Symbol</th>\n",
       "      <th>Volume</th>\n",
       "      <th>Open</th>\n",
       "      <th>Close</th>\n",
       "      <th>B/S</th>\n",
       "      <th>Sold</th>\n",
       "      <th>Bought</th>\n",
       "      <th>Gross P/L</th>\n",
       "      <th>Rollover</th>\n",
       "      <th>Net P/L</th>\n",
       "      <th>Created By</th>\n",
       "    </tr>\n",
       "  </thead>\n",
       "  <tbody>\n",
       "    <tr>\n",
       "      <th>0</th>\n",
       "      <td>17359665</td>\n",
       "      <td>EUR/JPY</td>\n",
       "      <td>2000</td>\n",
       "      <td>1/5/15 11:11 AM</td>\n",
       "      <td>1/5/15 11:35 AM</td>\n",
       "      <td>S</td>\n",
       "      <td>143.431</td>\n",
       "      <td>143.409</td>\n",
       "      <td>0.24</td>\n",
       "      <td>0.00</td>\n",
       "      <td>0.24</td>\n",
       "      <td>7510123597</td>\n",
       "    </tr>\n",
       "    <tr>\n",
       "      <th>1</th>\n",
       "      <td>17360113</td>\n",
       "      <td>EUR/JPY</td>\n",
       "      <td>5000</td>\n",
       "      <td>1/5/15 11:35 AM</td>\n",
       "      <td>1/6/15 10:02 AM</td>\n",
       "      <td>S</td>\n",
       "      <td>143.389</td>\n",
       "      <td>141.540</td>\n",
       "      <td>51.20</td>\n",
       "      <td>0.00</td>\n",
       "      <td>51.20</td>\n",
       "      <td>7510123597</td>\n",
       "    </tr>\n",
       "    <tr>\n",
       "      <th>2</th>\n",
       "      <td>17377272</td>\n",
       "      <td>EUR/JPY</td>\n",
       "      <td>5000</td>\n",
       "      <td>1/5/15 11:35 AM</td>\n",
       "      <td>1/7/15 12:08 AM</td>\n",
       "      <td>S</td>\n",
       "      <td>143.389</td>\n",
       "      <td>141.036</td>\n",
       "      <td>65.45</td>\n",
       "      <td>0.00</td>\n",
       "      <td>65.45</td>\n",
       "      <td>7510123597</td>\n",
       "    </tr>\n",
       "    <tr>\n",
       "      <th>3</th>\n",
       "      <td>17367846</td>\n",
       "      <td>CHF/JPY</td>\n",
       "      <td>5000</td>\n",
       "      <td>1/5/15 4:47 PM</td>\n",
       "      <td>1/6/15 10:03 AM</td>\n",
       "      <td>S</td>\n",
       "      <td>118.804</td>\n",
       "      <td>117.807</td>\n",
       "      <td>27.61</td>\n",
       "      <td>-0.08</td>\n",
       "      <td>27.53</td>\n",
       "      <td>7510123597</td>\n",
       "    </tr>\n",
       "    <tr>\n",
       "      <th>4</th>\n",
       "      <td>17377376</td>\n",
       "      <td>CHF/JPY</td>\n",
       "      <td>5000</td>\n",
       "      <td>1/5/15 4:47 PM</td>\n",
       "      <td>1/7/15 12:09 AM</td>\n",
       "      <td>S</td>\n",
       "      <td>118.804</td>\n",
       "      <td>117.437</td>\n",
       "      <td>38.02</td>\n",
       "      <td>-0.16</td>\n",
       "      <td>37.86</td>\n",
       "      <td>7510123597</td>\n",
       "    </tr>\n",
       "  </tbody>\n",
       "</table>\n",
       "</div>"
      ],
      "text/plain": [
       "   Ticket #   Symbol  Volume             Open            Close B/S     Sold  \\\n",
       "0  17359665  EUR/JPY    2000  1/5/15 11:11 AM  1/5/15 11:35 AM   S  143.431   \n",
       "1  17360113  EUR/JPY    5000  1/5/15 11:35 AM  1/6/15 10:02 AM   S  143.389   \n",
       "2  17377272  EUR/JPY    5000  1/5/15 11:35 AM  1/7/15 12:08 AM   S  143.389   \n",
       "3  17367846  CHF/JPY    5000   1/5/15 4:47 PM  1/6/15 10:03 AM   S  118.804   \n",
       "4  17377376  CHF/JPY    5000   1/5/15 4:47 PM  1/7/15 12:09 AM   S  118.804   \n",
       "\n",
       "    Bought  Gross P/L  Rollover  Net P/L  Created By  \n",
       "0  143.409       0.24      0.00     0.24  7510123597  \n",
       "1  141.540      51.20      0.00    51.20  7510123597  \n",
       "2  141.036      65.45      0.00    65.45  7510123597  \n",
       "3  117.807      27.61     -0.08    27.53  7510123597  \n",
       "4  117.437      38.02     -0.16    37.86  7510123597  "
      ]
     },
     "execution_count": 6,
     "metadata": {},
     "output_type": "execute_result"
    }
   ],
   "source": [
    "df.head()"
   ]
  },
  {
   "cell_type": "markdown",
   "metadata": {},
   "source": [
    "### Performing Operations on the Data"
   ]
  },
  {
   "cell_type": "markdown",
   "metadata": {},
   "source": [
    "As mentioned above, lets change Close column to datetime."
   ]
  },
  {
   "cell_type": "code",
   "execution_count": 7,
   "metadata": {
    "collapsed": true
   },
   "outputs": [],
   "source": [
    "df['Close'] = pd.to_datetime(df.Close)"
   ]
  },
  {
   "cell_type": "markdown",
   "metadata": {},
   "source": [
    "And we can verify that Close column has been changed to datetime."
   ]
  },
  {
   "cell_type": "code",
   "execution_count": 8,
   "metadata": {},
   "outputs": [
    {
     "name": "stdout",
     "output_type": "stream",
     "text": [
      "<class 'pandas.core.frame.DataFrame'>\n",
      "Int64Index: 2583 entries, 0 to 462\n",
      "Data columns (total 12 columns):\n",
      "Ticket #      2583 non-null int64\n",
      "Symbol        2583 non-null object\n",
      "Volume        2583 non-null int64\n",
      "Open          2583 non-null object\n",
      "Close         2583 non-null datetime64[ns]\n",
      "B/S           2583 non-null object\n",
      "Sold          2583 non-null float64\n",
      "Bought        2583 non-null float64\n",
      "Gross P/L     2583 non-null float64\n",
      "Rollover      2583 non-null float64\n",
      "Net P/L       2583 non-null float64\n",
      "Created By    2583 non-null int64\n",
      "dtypes: datetime64[ns](1), float64(5), int64(3), object(3)\n",
      "memory usage: 262.3+ KB\n"
     ]
    }
   ],
   "source": [
    "df.info()"
   ]
  },
  {
   "cell_type": "markdown",
   "metadata": {},
   "source": [
    "Changing Close column to datetime will allow me to get the months and years from the timestamp, and we will be using this to group PnL by months and years.\n",
    "\n",
    "Lets get the month first."
   ]
  },
  {
   "cell_type": "code",
   "execution_count": 9,
   "metadata": {
    "collapsed": true
   },
   "outputs": [],
   "source": [
    "df['Month'] = df['Close'].map(lambda x: x.strftime('%b'))"
   ]
  },
  {
   "cell_type": "markdown",
   "metadata": {},
   "source": [
    "Lets verify that we are able to get the months.\n",
    "\n",
    "Looks good - Month column created, with the month in which the trade was performed."
   ]
  },
  {
   "cell_type": "code",
   "execution_count": 10,
   "metadata": {},
   "outputs": [
    {
     "data": {
      "text/html": [
       "<div>\n",
       "<style>\n",
       "    .dataframe thead tr:only-child th {\n",
       "        text-align: right;\n",
       "    }\n",
       "\n",
       "    .dataframe thead th {\n",
       "        text-align: left;\n",
       "    }\n",
       "\n",
       "    .dataframe tbody tr th {\n",
       "        vertical-align: top;\n",
       "    }\n",
       "</style>\n",
       "<table border=\"1\" class=\"dataframe\">\n",
       "  <thead>\n",
       "    <tr style=\"text-align: right;\">\n",
       "      <th></th>\n",
       "      <th>Ticket #</th>\n",
       "      <th>Symbol</th>\n",
       "      <th>Volume</th>\n",
       "      <th>Open</th>\n",
       "      <th>Close</th>\n",
       "      <th>B/S</th>\n",
       "      <th>Sold</th>\n",
       "      <th>Bought</th>\n",
       "      <th>Gross P/L</th>\n",
       "      <th>Rollover</th>\n",
       "      <th>Net P/L</th>\n",
       "      <th>Created By</th>\n",
       "      <th>Month</th>\n",
       "    </tr>\n",
       "  </thead>\n",
       "  <tbody>\n",
       "    <tr>\n",
       "      <th>0</th>\n",
       "      <td>17359665</td>\n",
       "      <td>EUR/JPY</td>\n",
       "      <td>2000</td>\n",
       "      <td>1/5/15 11:11 AM</td>\n",
       "      <td>2015-01-05 11:35:00</td>\n",
       "      <td>S</td>\n",
       "      <td>143.431</td>\n",
       "      <td>143.409</td>\n",
       "      <td>0.24</td>\n",
       "      <td>0.00</td>\n",
       "      <td>0.24</td>\n",
       "      <td>7510123597</td>\n",
       "      <td>Jan</td>\n",
       "    </tr>\n",
       "    <tr>\n",
       "      <th>1</th>\n",
       "      <td>17360113</td>\n",
       "      <td>EUR/JPY</td>\n",
       "      <td>5000</td>\n",
       "      <td>1/5/15 11:35 AM</td>\n",
       "      <td>2015-01-06 10:02:00</td>\n",
       "      <td>S</td>\n",
       "      <td>143.389</td>\n",
       "      <td>141.540</td>\n",
       "      <td>51.20</td>\n",
       "      <td>0.00</td>\n",
       "      <td>51.20</td>\n",
       "      <td>7510123597</td>\n",
       "      <td>Jan</td>\n",
       "    </tr>\n",
       "    <tr>\n",
       "      <th>2</th>\n",
       "      <td>17377272</td>\n",
       "      <td>EUR/JPY</td>\n",
       "      <td>5000</td>\n",
       "      <td>1/5/15 11:35 AM</td>\n",
       "      <td>2015-01-07 00:08:00</td>\n",
       "      <td>S</td>\n",
       "      <td>143.389</td>\n",
       "      <td>141.036</td>\n",
       "      <td>65.45</td>\n",
       "      <td>0.00</td>\n",
       "      <td>65.45</td>\n",
       "      <td>7510123597</td>\n",
       "      <td>Jan</td>\n",
       "    </tr>\n",
       "    <tr>\n",
       "      <th>3</th>\n",
       "      <td>17367846</td>\n",
       "      <td>CHF/JPY</td>\n",
       "      <td>5000</td>\n",
       "      <td>1/5/15 4:47 PM</td>\n",
       "      <td>2015-01-06 10:03:00</td>\n",
       "      <td>S</td>\n",
       "      <td>118.804</td>\n",
       "      <td>117.807</td>\n",
       "      <td>27.61</td>\n",
       "      <td>-0.08</td>\n",
       "      <td>27.53</td>\n",
       "      <td>7510123597</td>\n",
       "      <td>Jan</td>\n",
       "    </tr>\n",
       "    <tr>\n",
       "      <th>4</th>\n",
       "      <td>17377376</td>\n",
       "      <td>CHF/JPY</td>\n",
       "      <td>5000</td>\n",
       "      <td>1/5/15 4:47 PM</td>\n",
       "      <td>2015-01-07 00:09:00</td>\n",
       "      <td>S</td>\n",
       "      <td>118.804</td>\n",
       "      <td>117.437</td>\n",
       "      <td>38.02</td>\n",
       "      <td>-0.16</td>\n",
       "      <td>37.86</td>\n",
       "      <td>7510123597</td>\n",
       "      <td>Jan</td>\n",
       "    </tr>\n",
       "  </tbody>\n",
       "</table>\n",
       "</div>"
      ],
      "text/plain": [
       "   Ticket #   Symbol  Volume             Open               Close B/S  \\\n",
       "0  17359665  EUR/JPY    2000  1/5/15 11:11 AM 2015-01-05 11:35:00   S   \n",
       "1  17360113  EUR/JPY    5000  1/5/15 11:35 AM 2015-01-06 10:02:00   S   \n",
       "2  17377272  EUR/JPY    5000  1/5/15 11:35 AM 2015-01-07 00:08:00   S   \n",
       "3  17367846  CHF/JPY    5000   1/5/15 4:47 PM 2015-01-06 10:03:00   S   \n",
       "4  17377376  CHF/JPY    5000   1/5/15 4:47 PM 2015-01-07 00:09:00   S   \n",
       "\n",
       "      Sold   Bought  Gross P/L  Rollover  Net P/L  Created By Month  \n",
       "0  143.431  143.409       0.24      0.00     0.24  7510123597   Jan  \n",
       "1  143.389  141.540      51.20      0.00    51.20  7510123597   Jan  \n",
       "2  143.389  141.036      65.45      0.00    65.45  7510123597   Jan  \n",
       "3  118.804  117.807      27.61     -0.08    27.53  7510123597   Jan  \n",
       "4  118.804  117.437      38.02     -0.16    37.86  7510123597   Jan  "
      ]
     },
     "execution_count": 10,
     "metadata": {},
     "output_type": "execute_result"
    }
   ],
   "source": [
    "df.head()"
   ]
  },
  {
   "cell_type": "markdown",
   "metadata": {},
   "source": [
    "Below I get the year."
   ]
  },
  {
   "cell_type": "code",
   "execution_count": 11,
   "metadata": {
    "collapsed": true
   },
   "outputs": [],
   "source": [
    "df['Year'] = df.Close.map(lambda x: x.strftime('%Y'))"
   ]
  },
  {
   "cell_type": "markdown",
   "metadata": {},
   "source": [
    "We are able to verify that Year column is created, with the year in which the trade was performed."
   ]
  },
  {
   "cell_type": "code",
   "execution_count": 12,
   "metadata": {},
   "outputs": [
    {
     "data": {
      "text/html": [
       "<div>\n",
       "<style>\n",
       "    .dataframe thead tr:only-child th {\n",
       "        text-align: right;\n",
       "    }\n",
       "\n",
       "    .dataframe thead th {\n",
       "        text-align: left;\n",
       "    }\n",
       "\n",
       "    .dataframe tbody tr th {\n",
       "        vertical-align: top;\n",
       "    }\n",
       "</style>\n",
       "<table border=\"1\" class=\"dataframe\">\n",
       "  <thead>\n",
       "    <tr style=\"text-align: right;\">\n",
       "      <th></th>\n",
       "      <th>Ticket #</th>\n",
       "      <th>Symbol</th>\n",
       "      <th>Volume</th>\n",
       "      <th>Open</th>\n",
       "      <th>Close</th>\n",
       "      <th>B/S</th>\n",
       "      <th>Sold</th>\n",
       "      <th>Bought</th>\n",
       "      <th>Gross P/L</th>\n",
       "      <th>Rollover</th>\n",
       "      <th>Net P/L</th>\n",
       "      <th>Created By</th>\n",
       "      <th>Month</th>\n",
       "      <th>Year</th>\n",
       "    </tr>\n",
       "  </thead>\n",
       "  <tbody>\n",
       "    <tr>\n",
       "      <th>0</th>\n",
       "      <td>17359665</td>\n",
       "      <td>EUR/JPY</td>\n",
       "      <td>2000</td>\n",
       "      <td>1/5/15 11:11 AM</td>\n",
       "      <td>2015-01-05 11:35:00</td>\n",
       "      <td>S</td>\n",
       "      <td>143.431</td>\n",
       "      <td>143.409</td>\n",
       "      <td>0.24</td>\n",
       "      <td>0.00</td>\n",
       "      <td>0.24</td>\n",
       "      <td>7510123597</td>\n",
       "      <td>Jan</td>\n",
       "      <td>2015</td>\n",
       "    </tr>\n",
       "    <tr>\n",
       "      <th>1</th>\n",
       "      <td>17360113</td>\n",
       "      <td>EUR/JPY</td>\n",
       "      <td>5000</td>\n",
       "      <td>1/5/15 11:35 AM</td>\n",
       "      <td>2015-01-06 10:02:00</td>\n",
       "      <td>S</td>\n",
       "      <td>143.389</td>\n",
       "      <td>141.540</td>\n",
       "      <td>51.20</td>\n",
       "      <td>0.00</td>\n",
       "      <td>51.20</td>\n",
       "      <td>7510123597</td>\n",
       "      <td>Jan</td>\n",
       "      <td>2015</td>\n",
       "    </tr>\n",
       "    <tr>\n",
       "      <th>2</th>\n",
       "      <td>17377272</td>\n",
       "      <td>EUR/JPY</td>\n",
       "      <td>5000</td>\n",
       "      <td>1/5/15 11:35 AM</td>\n",
       "      <td>2015-01-07 00:08:00</td>\n",
       "      <td>S</td>\n",
       "      <td>143.389</td>\n",
       "      <td>141.036</td>\n",
       "      <td>65.45</td>\n",
       "      <td>0.00</td>\n",
       "      <td>65.45</td>\n",
       "      <td>7510123597</td>\n",
       "      <td>Jan</td>\n",
       "      <td>2015</td>\n",
       "    </tr>\n",
       "    <tr>\n",
       "      <th>3</th>\n",
       "      <td>17367846</td>\n",
       "      <td>CHF/JPY</td>\n",
       "      <td>5000</td>\n",
       "      <td>1/5/15 4:47 PM</td>\n",
       "      <td>2015-01-06 10:03:00</td>\n",
       "      <td>S</td>\n",
       "      <td>118.804</td>\n",
       "      <td>117.807</td>\n",
       "      <td>27.61</td>\n",
       "      <td>-0.08</td>\n",
       "      <td>27.53</td>\n",
       "      <td>7510123597</td>\n",
       "      <td>Jan</td>\n",
       "      <td>2015</td>\n",
       "    </tr>\n",
       "    <tr>\n",
       "      <th>4</th>\n",
       "      <td>17377376</td>\n",
       "      <td>CHF/JPY</td>\n",
       "      <td>5000</td>\n",
       "      <td>1/5/15 4:47 PM</td>\n",
       "      <td>2015-01-07 00:09:00</td>\n",
       "      <td>S</td>\n",
       "      <td>118.804</td>\n",
       "      <td>117.437</td>\n",
       "      <td>38.02</td>\n",
       "      <td>-0.16</td>\n",
       "      <td>37.86</td>\n",
       "      <td>7510123597</td>\n",
       "      <td>Jan</td>\n",
       "      <td>2015</td>\n",
       "    </tr>\n",
       "  </tbody>\n",
       "</table>\n",
       "</div>"
      ],
      "text/plain": [
       "   Ticket #   Symbol  Volume             Open               Close B/S  \\\n",
       "0  17359665  EUR/JPY    2000  1/5/15 11:11 AM 2015-01-05 11:35:00   S   \n",
       "1  17360113  EUR/JPY    5000  1/5/15 11:35 AM 2015-01-06 10:02:00   S   \n",
       "2  17377272  EUR/JPY    5000  1/5/15 11:35 AM 2015-01-07 00:08:00   S   \n",
       "3  17367846  CHF/JPY    5000   1/5/15 4:47 PM 2015-01-06 10:03:00   S   \n",
       "4  17377376  CHF/JPY    5000   1/5/15 4:47 PM 2015-01-07 00:09:00   S   \n",
       "\n",
       "      Sold   Bought  Gross P/L  Rollover  Net P/L  Created By Month  Year  \n",
       "0  143.431  143.409       0.24      0.00     0.24  7510123597   Jan  2015  \n",
       "1  143.389  141.540      51.20      0.00    51.20  7510123597   Jan  2015  \n",
       "2  143.389  141.036      65.45      0.00    65.45  7510123597   Jan  2015  \n",
       "3  118.804  117.807      27.61     -0.08    27.53  7510123597   Jan  2015  \n",
       "4  118.804  117.437      38.02     -0.16    37.86  7510123597   Jan  2015  "
      ]
     },
     "execution_count": 12,
     "metadata": {},
     "output_type": "execute_result"
    }
   ],
   "source": [
    "df.head()"
   ]
  },
  {
   "cell_type": "markdown",
   "metadata": {},
   "source": [
    "Lets also verify that the Year column is created successfully - there should be only 2 years.\n",
    "\n",
    "And we see that that's the case."
   ]
  },
  {
   "cell_type": "code",
   "execution_count": 13,
   "metadata": {},
   "outputs": [
    {
     "data": {
      "text/plain": [
       "array(['2015', '2016'], dtype=object)"
      ]
     },
     "execution_count": 13,
     "metadata": {},
     "output_type": "execute_result"
    }
   ],
   "source": [
    "df.Year.unique()"
   ]
  },
  {
   "cell_type": "markdown",
   "metadata": {},
   "source": [
    "Similarly, lets verify for the months.\n",
    "\n",
    "And it looks good.\n",
    "\n",
    "We will be needing this months list - in the next step where I convert Month as type category - this helps me in ordering PnLs by months - we will see that later. If this step is not performed, when we group PnLs by months, they will be ordered alphabetically (beginning with April, rather than January)."
   ]
  },
  {
   "cell_type": "code",
   "execution_count": 14,
   "metadata": {},
   "outputs": [
    {
     "data": {
      "text/plain": [
       "array(['Jan', 'Feb', 'Mar', 'Apr', 'May', 'Jun', 'Jul', 'Aug', 'Sep',\n",
       "       'Oct', 'Nov', 'Dec'], dtype=object)"
      ]
     },
     "execution_count": 14,
     "metadata": {},
     "output_type": "execute_result"
    }
   ],
   "source": [
    "df.Month.unique()"
   ]
  },
  {
   "cell_type": "markdown",
   "metadata": {},
   "source": [
    "Below I convert Month to category data type."
   ]
  },
  {
   "cell_type": "code",
   "execution_count": 15,
   "metadata": {
    "collapsed": true
   },
   "outputs": [],
   "source": [
    "df.Month = df.Month.astype('category', categories=[\n",
    "    'Jan', 'Feb', 'Mar', 'Apr', 'May', 'Jun', 'Jul', 'Aug', 'Sep', 'Oct', 'Nov', 'Dec'\n",
    "])"
   ]
  },
  {
   "cell_type": "markdown",
   "metadata": {},
   "source": [
    "As we have seen in analysis for 2015 and 2016, its good to have the column names without spaces etc, so below I take care of that."
   ]
  },
  {
   "cell_type": "code",
   "execution_count": 16,
   "metadata": {
    "collapsed": true
   },
   "outputs": [],
   "source": [
    "df.rename(columns={'Net P/L':'NetPnL','Gross P/L':'GrossPnL','Created By':'Account','Ticket #':'TicketId'},\n",
    "         inplace=True)"
   ]
  },
  {
   "cell_type": "markdown",
   "metadata": {},
   "source": [
    "Looking at the first few rows, we see that it looks good.\n",
    "\n",
    "Close column is datetime, Month and Year column created, and column names are as we wanted."
   ]
  },
  {
   "cell_type": "code",
   "execution_count": 17,
   "metadata": {},
   "outputs": [
    {
     "data": {
      "text/html": [
       "<div>\n",
       "<style>\n",
       "    .dataframe thead tr:only-child th {\n",
       "        text-align: right;\n",
       "    }\n",
       "\n",
       "    .dataframe thead th {\n",
       "        text-align: left;\n",
       "    }\n",
       "\n",
       "    .dataframe tbody tr th {\n",
       "        vertical-align: top;\n",
       "    }\n",
       "</style>\n",
       "<table border=\"1\" class=\"dataframe\">\n",
       "  <thead>\n",
       "    <tr style=\"text-align: right;\">\n",
       "      <th></th>\n",
       "      <th>TicketId</th>\n",
       "      <th>Symbol</th>\n",
       "      <th>Volume</th>\n",
       "      <th>Open</th>\n",
       "      <th>Close</th>\n",
       "      <th>B/S</th>\n",
       "      <th>Sold</th>\n",
       "      <th>Bought</th>\n",
       "      <th>GrossPnL</th>\n",
       "      <th>Rollover</th>\n",
       "      <th>NetPnL</th>\n",
       "      <th>Account</th>\n",
       "      <th>Month</th>\n",
       "      <th>Year</th>\n",
       "    </tr>\n",
       "  </thead>\n",
       "  <tbody>\n",
       "    <tr>\n",
       "      <th>0</th>\n",
       "      <td>17359665</td>\n",
       "      <td>EUR/JPY</td>\n",
       "      <td>2000</td>\n",
       "      <td>1/5/15 11:11 AM</td>\n",
       "      <td>2015-01-05 11:35:00</td>\n",
       "      <td>S</td>\n",
       "      <td>143.431</td>\n",
       "      <td>143.409</td>\n",
       "      <td>0.24</td>\n",
       "      <td>0.00</td>\n",
       "      <td>0.24</td>\n",
       "      <td>7510123597</td>\n",
       "      <td>Jan</td>\n",
       "      <td>2015</td>\n",
       "    </tr>\n",
       "    <tr>\n",
       "      <th>1</th>\n",
       "      <td>17360113</td>\n",
       "      <td>EUR/JPY</td>\n",
       "      <td>5000</td>\n",
       "      <td>1/5/15 11:35 AM</td>\n",
       "      <td>2015-01-06 10:02:00</td>\n",
       "      <td>S</td>\n",
       "      <td>143.389</td>\n",
       "      <td>141.540</td>\n",
       "      <td>51.20</td>\n",
       "      <td>0.00</td>\n",
       "      <td>51.20</td>\n",
       "      <td>7510123597</td>\n",
       "      <td>Jan</td>\n",
       "      <td>2015</td>\n",
       "    </tr>\n",
       "    <tr>\n",
       "      <th>2</th>\n",
       "      <td>17377272</td>\n",
       "      <td>EUR/JPY</td>\n",
       "      <td>5000</td>\n",
       "      <td>1/5/15 11:35 AM</td>\n",
       "      <td>2015-01-07 00:08:00</td>\n",
       "      <td>S</td>\n",
       "      <td>143.389</td>\n",
       "      <td>141.036</td>\n",
       "      <td>65.45</td>\n",
       "      <td>0.00</td>\n",
       "      <td>65.45</td>\n",
       "      <td>7510123597</td>\n",
       "      <td>Jan</td>\n",
       "      <td>2015</td>\n",
       "    </tr>\n",
       "    <tr>\n",
       "      <th>3</th>\n",
       "      <td>17367846</td>\n",
       "      <td>CHF/JPY</td>\n",
       "      <td>5000</td>\n",
       "      <td>1/5/15 4:47 PM</td>\n",
       "      <td>2015-01-06 10:03:00</td>\n",
       "      <td>S</td>\n",
       "      <td>118.804</td>\n",
       "      <td>117.807</td>\n",
       "      <td>27.61</td>\n",
       "      <td>-0.08</td>\n",
       "      <td>27.53</td>\n",
       "      <td>7510123597</td>\n",
       "      <td>Jan</td>\n",
       "      <td>2015</td>\n",
       "    </tr>\n",
       "    <tr>\n",
       "      <th>4</th>\n",
       "      <td>17377376</td>\n",
       "      <td>CHF/JPY</td>\n",
       "      <td>5000</td>\n",
       "      <td>1/5/15 4:47 PM</td>\n",
       "      <td>2015-01-07 00:09:00</td>\n",
       "      <td>S</td>\n",
       "      <td>118.804</td>\n",
       "      <td>117.437</td>\n",
       "      <td>38.02</td>\n",
       "      <td>-0.16</td>\n",
       "      <td>37.86</td>\n",
       "      <td>7510123597</td>\n",
       "      <td>Jan</td>\n",
       "      <td>2015</td>\n",
       "    </tr>\n",
       "  </tbody>\n",
       "</table>\n",
       "</div>"
      ],
      "text/plain": [
       "   TicketId   Symbol  Volume             Open               Close B/S  \\\n",
       "0  17359665  EUR/JPY    2000  1/5/15 11:11 AM 2015-01-05 11:35:00   S   \n",
       "1  17360113  EUR/JPY    5000  1/5/15 11:35 AM 2015-01-06 10:02:00   S   \n",
       "2  17377272  EUR/JPY    5000  1/5/15 11:35 AM 2015-01-07 00:08:00   S   \n",
       "3  17367846  CHF/JPY    5000   1/5/15 4:47 PM 2015-01-06 10:03:00   S   \n",
       "4  17377376  CHF/JPY    5000   1/5/15 4:47 PM 2015-01-07 00:09:00   S   \n",
       "\n",
       "      Sold   Bought  GrossPnL  Rollover  NetPnL     Account Month  Year  \n",
       "0  143.431  143.409      0.24      0.00    0.24  7510123597   Jan  2015  \n",
       "1  143.389  141.540     51.20      0.00   51.20  7510123597   Jan  2015  \n",
       "2  143.389  141.036     65.45      0.00   65.45  7510123597   Jan  2015  \n",
       "3  118.804  117.807     27.61     -0.08   27.53  7510123597   Jan  2015  \n",
       "4  118.804  117.437     38.02     -0.16   37.86  7510123597   Jan  2015  "
      ]
     },
     "execution_count": 17,
     "metadata": {},
     "output_type": "execute_result"
    }
   ],
   "source": [
    "df.head()"
   ]
  },
  {
   "cell_type": "markdown",
   "metadata": {},
   "source": [
    "### Initial Analysis"
   ]
  },
  {
   "cell_type": "markdown",
   "metadata": {},
   "source": [
    "Lets start doing some analysis.\n",
    "\n",
    "Pulling out Net PnL, we see that I lost around £5000 in 2015 and around £1500 in 2016.\n",
    "\n",
    "To put this in perspective, I began 2015 with £10,000. I put in another £1000 during the year. So, my AUM - Asset Under Management, for 2015 was £11,000. Percentage wise, I lost a little less than 50% of my capital.\n",
    "\n",
    "I was left with around £6000 when 2016 began. So having lost around £1500, my performance for 2016 was -25%.\n",
    "\n",
    "The consolation for me was that - I had read about hedge funds losing more than 50% in a year. And another consolation was that I had not completely blown away my capital in 2 years of trading."
   ]
  },
  {
   "cell_type": "code",
   "execution_count": 18,
   "metadata": {},
   "outputs": [
    {
     "data": {
      "text/html": [
       "<div>\n",
       "<style>\n",
       "    .dataframe thead tr:only-child th {\n",
       "        text-align: right;\n",
       "    }\n",
       "\n",
       "    .dataframe thead th {\n",
       "        text-align: left;\n",
       "    }\n",
       "\n",
       "    .dataframe tbody tr th {\n",
       "        vertical-align: top;\n",
       "    }\n",
       "</style>\n",
       "<table border=\"1\" class=\"dataframe\">\n",
       "  <thead>\n",
       "    <tr style=\"text-align: right;\">\n",
       "      <th></th>\n",
       "      <th>Year</th>\n",
       "      <th>NetPnL</th>\n",
       "    </tr>\n",
       "  </thead>\n",
       "  <tbody>\n",
       "    <tr>\n",
       "      <th>0</th>\n",
       "      <td>2015</td>\n",
       "      <td>-5081.03</td>\n",
       "    </tr>\n",
       "    <tr>\n",
       "      <th>1</th>\n",
       "      <td>2016</td>\n",
       "      <td>-1548.05</td>\n",
       "    </tr>\n",
       "  </tbody>\n",
       "</table>\n",
       "</div>"
      ],
      "text/plain": [
       "   Year   NetPnL\n",
       "0  2015 -5081.03\n",
       "1  2016 -1548.05"
      ]
     },
     "execution_count": 18,
     "metadata": {},
     "output_type": "execute_result"
    }
   ],
   "source": [
    "df.groupby('Year', as_index=False)['NetPnL'].sum()"
   ]
  },
  {
   "cell_type": "markdown",
   "metadata": {},
   "source": [
    "Les create a summary for the years with AUM, Net PnL and Performance.\n",
    "\n",
    "So we see that I lost around half my capital in 2015, but in 2016, it looks like I got a better grip on my performance, and ended up losing  only around a quarter of my capital. Of course, I wish I had made a positive return."
   ]
  },
  {
   "cell_type": "code",
   "execution_count": 19,
   "metadata": {},
   "outputs": [
    {
     "data": {
      "text/html": [
       "<div>\n",
       "<style>\n",
       "    .dataframe thead tr:only-child th {\n",
       "        text-align: right;\n",
       "    }\n",
       "\n",
       "    .dataframe thead th {\n",
       "        text-align: left;\n",
       "    }\n",
       "\n",
       "    .dataframe tbody tr th {\n",
       "        vertical-align: top;\n",
       "    }\n",
       "</style>\n",
       "<table border=\"1\" class=\"dataframe\">\n",
       "  <thead>\n",
       "    <tr style=\"text-align: right;\">\n",
       "      <th></th>\n",
       "      <th>AUM</th>\n",
       "      <th>NetPnL</th>\n",
       "      <th>Performance</th>\n",
       "    </tr>\n",
       "    <tr>\n",
       "      <th>Year</th>\n",
       "      <th></th>\n",
       "      <th></th>\n",
       "      <th></th>\n",
       "    </tr>\n",
       "  </thead>\n",
       "  <tbody>\n",
       "    <tr>\n",
       "      <th>2015</th>\n",
       "      <td>11000.00</td>\n",
       "      <td>-5081.03</td>\n",
       "      <td>-46.19%</td>\n",
       "    </tr>\n",
       "    <tr>\n",
       "      <th>2016</th>\n",
       "      <td>5918.97</td>\n",
       "      <td>-1548.05</td>\n",
       "      <td>-26.15%</td>\n",
       "    </tr>\n",
       "  </tbody>\n",
       "</table>\n",
       "</div>"
      ],
      "text/plain": [
       "           AUM   NetPnL Performance\n",
       "Year                               \n",
       "2015  11000.00 -5081.03     -46.19%\n",
       "2016   5918.97 -1548.05     -26.15%"
      ]
     },
     "execution_count": 19,
     "metadata": {},
     "output_type": "execute_result"
    }
   ],
   "source": [
    "df_t = df.groupby('Year', as_index=False)['NetPnL'].sum() \n",
    "# df_t is short for dataframe_temp\n",
    "\n",
    "df_t['AUM'] = 0\n",
    "df_t.loc[0,'AUM'] = 11000\n",
    "df_t.loc[1, 'AUM'] = df_t.loc[0, 'AUM'] - np.abs(df_t.loc[0, 'NetPnL'])\n",
    "df_t['Performance'] = 0\n",
    "df_t.Performance = round(100 * df_t.NetPnL / df_t.AUM, 2)\n",
    "df_t.Performance = df_t.Performance.map(lambda x: '{:.2f}%'.format(x))\n",
    "df_t = df_t[['Year','AUM','NetPnL','Performance']]\n",
    "df_t.set_index('Year', inplace=True)\n",
    "df_t"
   ]
  },
  {
   "cell_type": "markdown",
   "metadata": {},
   "source": [
    "### Digress .."
   ]
  },
  {
   "cell_type": "markdown",
   "metadata": {},
   "source": [
    "Here we digress for a bit.\n",
    "\n",
    "I wanted to get separate data for 2015 and 2016 - it will be convenient when plotting etc. The below steps are for that.\n",
    "\n",
    "It also allows me to verify that there are actually trades from 2015 and 2016. Until now, we have just seen taken a peek of the trades from 2015."
   ]
  },
  {
   "cell_type": "code",
   "execution_count": 20,
   "metadata": {},
   "outputs": [
    {
     "data": {
      "text/html": [
       "<div>\n",
       "<style>\n",
       "    .dataframe thead tr:only-child th {\n",
       "        text-align: right;\n",
       "    }\n",
       "\n",
       "    .dataframe thead th {\n",
       "        text-align: left;\n",
       "    }\n",
       "\n",
       "    .dataframe tbody tr th {\n",
       "        vertical-align: top;\n",
       "    }\n",
       "</style>\n",
       "<table border=\"1\" class=\"dataframe\">\n",
       "  <thead>\n",
       "    <tr style=\"text-align: right;\">\n",
       "      <th></th>\n",
       "      <th>TicketId</th>\n",
       "      <th>Symbol</th>\n",
       "      <th>Volume</th>\n",
       "      <th>Open</th>\n",
       "      <th>Close</th>\n",
       "      <th>B/S</th>\n",
       "      <th>Sold</th>\n",
       "      <th>Bought</th>\n",
       "      <th>GrossPnL</th>\n",
       "      <th>Rollover</th>\n",
       "      <th>NetPnL</th>\n",
       "      <th>Account</th>\n",
       "      <th>Month</th>\n",
       "      <th>Year</th>\n",
       "    </tr>\n",
       "  </thead>\n",
       "  <tbody>\n",
       "    <tr>\n",
       "      <th>0</th>\n",
       "      <td>17359665</td>\n",
       "      <td>EUR/JPY</td>\n",
       "      <td>2000</td>\n",
       "      <td>1/5/15 11:11 AM</td>\n",
       "      <td>2015-01-05 11:35:00</td>\n",
       "      <td>S</td>\n",
       "      <td>143.431</td>\n",
       "      <td>143.409</td>\n",
       "      <td>0.24</td>\n",
       "      <td>0.00</td>\n",
       "      <td>0.24</td>\n",
       "      <td>7510123597</td>\n",
       "      <td>Jan</td>\n",
       "      <td>2015</td>\n",
       "    </tr>\n",
       "    <tr>\n",
       "      <th>1</th>\n",
       "      <td>17360113</td>\n",
       "      <td>EUR/JPY</td>\n",
       "      <td>5000</td>\n",
       "      <td>1/5/15 11:35 AM</td>\n",
       "      <td>2015-01-06 10:02:00</td>\n",
       "      <td>S</td>\n",
       "      <td>143.389</td>\n",
       "      <td>141.540</td>\n",
       "      <td>51.20</td>\n",
       "      <td>0.00</td>\n",
       "      <td>51.20</td>\n",
       "      <td>7510123597</td>\n",
       "      <td>Jan</td>\n",
       "      <td>2015</td>\n",
       "    </tr>\n",
       "    <tr>\n",
       "      <th>2</th>\n",
       "      <td>17377272</td>\n",
       "      <td>EUR/JPY</td>\n",
       "      <td>5000</td>\n",
       "      <td>1/5/15 11:35 AM</td>\n",
       "      <td>2015-01-07 00:08:00</td>\n",
       "      <td>S</td>\n",
       "      <td>143.389</td>\n",
       "      <td>141.036</td>\n",
       "      <td>65.45</td>\n",
       "      <td>0.00</td>\n",
       "      <td>65.45</td>\n",
       "      <td>7510123597</td>\n",
       "      <td>Jan</td>\n",
       "      <td>2015</td>\n",
       "    </tr>\n",
       "    <tr>\n",
       "      <th>3</th>\n",
       "      <td>17367846</td>\n",
       "      <td>CHF/JPY</td>\n",
       "      <td>5000</td>\n",
       "      <td>1/5/15 4:47 PM</td>\n",
       "      <td>2015-01-06 10:03:00</td>\n",
       "      <td>S</td>\n",
       "      <td>118.804</td>\n",
       "      <td>117.807</td>\n",
       "      <td>27.61</td>\n",
       "      <td>-0.08</td>\n",
       "      <td>27.53</td>\n",
       "      <td>7510123597</td>\n",
       "      <td>Jan</td>\n",
       "      <td>2015</td>\n",
       "    </tr>\n",
       "    <tr>\n",
       "      <th>4</th>\n",
       "      <td>17377376</td>\n",
       "      <td>CHF/JPY</td>\n",
       "      <td>5000</td>\n",
       "      <td>1/5/15 4:47 PM</td>\n",
       "      <td>2015-01-07 00:09:00</td>\n",
       "      <td>S</td>\n",
       "      <td>118.804</td>\n",
       "      <td>117.437</td>\n",
       "      <td>38.02</td>\n",
       "      <td>-0.16</td>\n",
       "      <td>37.86</td>\n",
       "      <td>7510123597</td>\n",
       "      <td>Jan</td>\n",
       "      <td>2015</td>\n",
       "    </tr>\n",
       "  </tbody>\n",
       "</table>\n",
       "</div>"
      ],
      "text/plain": [
       "   TicketId   Symbol  Volume             Open               Close B/S  \\\n",
       "0  17359665  EUR/JPY    2000  1/5/15 11:11 AM 2015-01-05 11:35:00   S   \n",
       "1  17360113  EUR/JPY    5000  1/5/15 11:35 AM 2015-01-06 10:02:00   S   \n",
       "2  17377272  EUR/JPY    5000  1/5/15 11:35 AM 2015-01-07 00:08:00   S   \n",
       "3  17367846  CHF/JPY    5000   1/5/15 4:47 PM 2015-01-06 10:03:00   S   \n",
       "4  17377376  CHF/JPY    5000   1/5/15 4:47 PM 2015-01-07 00:09:00   S   \n",
       "\n",
       "      Sold   Bought  GrossPnL  Rollover  NetPnL     Account Month  Year  \n",
       "0  143.431  143.409      0.24      0.00    0.24  7510123597   Jan  2015  \n",
       "1  143.389  141.540     51.20      0.00   51.20  7510123597   Jan  2015  \n",
       "2  143.389  141.036     65.45      0.00   65.45  7510123597   Jan  2015  \n",
       "3  118.804  117.807     27.61     -0.08   27.53  7510123597   Jan  2015  \n",
       "4  118.804  117.437     38.02     -0.16   37.86  7510123597   Jan  2015  "
      ]
     },
     "execution_count": 20,
     "metadata": {},
     "output_type": "execute_result"
    }
   ],
   "source": [
    "df_15 = df[df.Year == '2015']\n",
    "df_15.head()"
   ]
  },
  {
   "cell_type": "code",
   "execution_count": 21,
   "metadata": {},
   "outputs": [
    {
     "data": {
      "text/html": [
       "<div>\n",
       "<style>\n",
       "    .dataframe thead tr:only-child th {\n",
       "        text-align: right;\n",
       "    }\n",
       "\n",
       "    .dataframe thead th {\n",
       "        text-align: left;\n",
       "    }\n",
       "\n",
       "    .dataframe tbody tr th {\n",
       "        vertical-align: top;\n",
       "    }\n",
       "</style>\n",
       "<table border=\"1\" class=\"dataframe\">\n",
       "  <thead>\n",
       "    <tr style=\"text-align: right;\">\n",
       "      <th></th>\n",
       "      <th>TicketId</th>\n",
       "      <th>Symbol</th>\n",
       "      <th>Volume</th>\n",
       "      <th>Open</th>\n",
       "      <th>Close</th>\n",
       "      <th>B/S</th>\n",
       "      <th>Sold</th>\n",
       "      <th>Bought</th>\n",
       "      <th>GrossPnL</th>\n",
       "      <th>Rollover</th>\n",
       "      <th>NetPnL</th>\n",
       "      <th>Account</th>\n",
       "      <th>Month</th>\n",
       "      <th>Year</th>\n",
       "    </tr>\n",
       "  </thead>\n",
       "  <tbody>\n",
       "    <tr>\n",
       "      <th>0</th>\n",
       "      <td>21486534</td>\n",
       "      <td>GBP/JPY</td>\n",
       "      <td>3000</td>\n",
       "      <td>12/14/15 5:59 PM</td>\n",
       "      <td>2016-01-19 08:15:00</td>\n",
       "      <td>S</td>\n",
       "      <td>182.7470</td>\n",
       "      <td>168.75900</td>\n",
       "      <td>248.66</td>\n",
       "      <td>-1.51</td>\n",
       "      <td>247.15</td>\n",
       "      <td>7510123597</td>\n",
       "      <td>Jan</td>\n",
       "      <td>2016</td>\n",
       "    </tr>\n",
       "    <tr>\n",
       "      <th>1</th>\n",
       "      <td>21486595</td>\n",
       "      <td>GBP/NZD</td>\n",
       "      <td>2000</td>\n",
       "      <td>12/14/15 6:01 PM</td>\n",
       "      <td>2016-01-04 03:56:00</td>\n",
       "      <td>S</td>\n",
       "      <td>2.2330</td>\n",
       "      <td>2.17882</td>\n",
       "      <td>49.73</td>\n",
       "      <td>1.80</td>\n",
       "      <td>51.53</td>\n",
       "      <td>7510123597</td>\n",
       "      <td>Jan</td>\n",
       "      <td>2016</td>\n",
       "    </tr>\n",
       "    <tr>\n",
       "      <th>2</th>\n",
       "      <td>21533152</td>\n",
       "      <td>AUD/JPY</td>\n",
       "      <td>4000</td>\n",
       "      <td>12/17/15 5:41 PM</td>\n",
       "      <td>2016-01-08 01:15:00</td>\n",
       "      <td>S</td>\n",
       "      <td>87.2030</td>\n",
       "      <td>83.61000</td>\n",
       "      <td>83.12</td>\n",
       "      <td>-4.10</td>\n",
       "      <td>79.02</td>\n",
       "      <td>7510123597</td>\n",
       "      <td>Jan</td>\n",
       "      <td>2016</td>\n",
       "    </tr>\n",
       "    <tr>\n",
       "      <th>3</th>\n",
       "      <td>21533187</td>\n",
       "      <td>CAD/JPY</td>\n",
       "      <td>4000</td>\n",
       "      <td>12/17/15 5:45 PM</td>\n",
       "      <td>2016-01-19 07:03:00</td>\n",
       "      <td>S</td>\n",
       "      <td>87.9100</td>\n",
       "      <td>81.55200</td>\n",
       "      <td>151.03</td>\n",
       "      <td>-1.26</td>\n",
       "      <td>149.77</td>\n",
       "      <td>7510123597</td>\n",
       "      <td>Jan</td>\n",
       "      <td>2016</td>\n",
       "    </tr>\n",
       "    <tr>\n",
       "      <th>4</th>\n",
       "      <td>21545894</td>\n",
       "      <td>EUR/NZD</td>\n",
       "      <td>2000</td>\n",
       "      <td>12/18/15 5:33 PM</td>\n",
       "      <td>2016-01-06 16:47:00</td>\n",
       "      <td>S</td>\n",
       "      <td>1.6066</td>\n",
       "      <td>1.62096</td>\n",
       "      <td>-13.04</td>\n",
       "      <td>1.39</td>\n",
       "      <td>-11.65</td>\n",
       "      <td>7510123597</td>\n",
       "      <td>Jan</td>\n",
       "      <td>2016</td>\n",
       "    </tr>\n",
       "  </tbody>\n",
       "</table>\n",
       "</div>"
      ],
      "text/plain": [
       "   TicketId   Symbol  Volume              Open               Close B/S  \\\n",
       "0  21486534  GBP/JPY    3000  12/14/15 5:59 PM 2016-01-19 08:15:00   S   \n",
       "1  21486595  GBP/NZD    2000  12/14/15 6:01 PM 2016-01-04 03:56:00   S   \n",
       "2  21533152  AUD/JPY    4000  12/17/15 5:41 PM 2016-01-08 01:15:00   S   \n",
       "3  21533187  CAD/JPY    4000  12/17/15 5:45 PM 2016-01-19 07:03:00   S   \n",
       "4  21545894  EUR/NZD    2000  12/18/15 5:33 PM 2016-01-06 16:47:00   S   \n",
       "\n",
       "       Sold     Bought  GrossPnL  Rollover  NetPnL     Account Month  Year  \n",
       "0  182.7470  168.75900    248.66     -1.51  247.15  7510123597   Jan  2016  \n",
       "1    2.2330    2.17882     49.73      1.80   51.53  7510123597   Jan  2016  \n",
       "2   87.2030   83.61000     83.12     -4.10   79.02  7510123597   Jan  2016  \n",
       "3   87.9100   81.55200    151.03     -1.26  149.77  7510123597   Jan  2016  \n",
       "4    1.6066    1.62096    -13.04      1.39  -11.65  7510123597   Jan  2016  "
      ]
     },
     "execution_count": 21,
     "metadata": {},
     "output_type": "execute_result"
    }
   ],
   "source": [
    "df_16 = df[df.Year == '2016']\n",
    "df_16.head()"
   ]
  },
  {
   "cell_type": "markdown",
   "metadata": {},
   "source": [
    "In below 2 steps, I wanted to check the row count - to verify the number of trades again. \n",
    "\n",
    "And it looks good - 2120 from 2015 and 463 from 2016. They look about right."
   ]
  },
  {
   "cell_type": "code",
   "execution_count": 22,
   "metadata": {},
   "outputs": [
    {
     "name": "stdout",
     "output_type": "stream",
     "text": [
      "<class 'pandas.core.frame.DataFrame'>\n",
      "Int64Index: 2120 entries, 0 to 2119\n",
      "Data columns (total 14 columns):\n",
      "TicketId    2120 non-null int64\n",
      "Symbol      2120 non-null object\n",
      "Volume      2120 non-null int64\n",
      "Open        2120 non-null object\n",
      "Close       2120 non-null datetime64[ns]\n",
      "B/S         2120 non-null object\n",
      "Sold        2120 non-null float64\n",
      "Bought      2120 non-null float64\n",
      "GrossPnL    2120 non-null float64\n",
      "Rollover    2120 non-null float64\n",
      "NetPnL      2120 non-null float64\n",
      "Account     2120 non-null int64\n",
      "Month       2120 non-null category\n",
      "Year        2120 non-null object\n",
      "dtypes: category(1), datetime64[ns](1), float64(5), int64(3), object(4)\n",
      "memory usage: 234.4+ KB\n"
     ]
    }
   ],
   "source": [
    "df_15.info()"
   ]
  },
  {
   "cell_type": "code",
   "execution_count": 23,
   "metadata": {},
   "outputs": [
    {
     "name": "stdout",
     "output_type": "stream",
     "text": [
      "<class 'pandas.core.frame.DataFrame'>\n",
      "Int64Index: 463 entries, 0 to 462\n",
      "Data columns (total 14 columns):\n",
      "TicketId    463 non-null int64\n",
      "Symbol      463 non-null object\n",
      "Volume      463 non-null int64\n",
      "Open        463 non-null object\n",
      "Close       463 non-null datetime64[ns]\n",
      "B/S         463 non-null object\n",
      "Sold        463 non-null float64\n",
      "Bought      463 non-null float64\n",
      "GrossPnL    463 non-null float64\n",
      "Rollover    463 non-null float64\n",
      "NetPnL      463 non-null float64\n",
      "Account     463 non-null int64\n",
      "Month       463 non-null category\n",
      "Year        463 non-null object\n",
      "dtypes: category(1), datetime64[ns](1), float64(5), int64(3), object(4)\n",
      "memory usage: 51.5+ KB\n"
     ]
    }
   ],
   "source": [
    "df_16.info()"
   ]
  },
  {
   "cell_type": "markdown",
   "metadata": {},
   "source": [
    "### Distribution of PnL"
   ]
  },
  {
   "cell_type": "markdown",
   "metadata": {},
   "source": [
    "Lets do a scatter plot for the PnLs for the 2 years.\n",
    "\n",
    "We see - first of all, that in 2016, there were no big losses, like thousands of pounds; the nastiest loss seems to lie around £200."
   ]
  },
  {
   "cell_type": "code",
   "execution_count": 24,
   "metadata": {},
   "outputs": [
    {
     "data": {
      "text/plain": [
       "<matplotlib.text.Text at 0xb63a240>"
      ]
     },
     "execution_count": 24,
     "metadata": {},
     "output_type": "execute_result"
    },
    {
     "data": {
      "image/png": "[encoded data removed]",
      "text/plain": [
       "<matplotlib.figure.Figure at 0xb4bd2e8>"
      ]
     },
     "metadata": {},
     "output_type": "display_data"
    }
   ],
   "source": [
    "f, (a0, a1) = plt.subplots(1, 2, sharey=True, figsize=(12,4))\n",
    "f.suptitle('Net PnL Distribution')\n",
    "\n",
    "a0.scatter(df_15.NetPnL.index, df_15.NetPnL)\n",
    "a1.scatter(df_16.NetPnL.index, df_16.NetPnL)\n",
    "\n",
    "a0.set_title('2015')\n",
    "a0.set_xlabel('Trades', labelpad=10)\n",
    "a0.set_ylabel('Net PnL   (£)')\n",
    "\n",
    "a1.set_title('2016')\n",
    "a1.set_xlabel('Trades', labelpad=10)"
   ]
  },
  {
   "cell_type": "markdown",
   "metadata": {},
   "source": [
    "We also want to see how it looks like with some alpha (=0.5).\n",
    "\n",
    "Its the same distribution we have seen separately for 2015 and 2016, but here we can see side by side."
   ]
  },
  {
   "cell_type": "code",
   "execution_count": 25,
   "metadata": {},
   "outputs": [
    {
     "data": {
      "text/plain": [
       "<matplotlib.text.Text at 0xb6c4f98>"
      ]
     },
     "execution_count": 25,
     "metadata": {},
     "output_type": "execute_result"
    },
    {
     "data": {
      "image/png": "[encoded data removed]",
      "text/plain": [
       "<matplotlib.figure.Figure at 0xa3ba390>"
      ]
     },
     "metadata": {},
     "output_type": "display_data"
    }
   ],
   "source": [
    "f, (a0, a1) = plt.subplots(1, 2, sharey=True, figsize=(12,4))\n",
    "f.suptitle('Net PnL Distribution')\n",
    "\n",
    "a0.scatter(df_15.NetPnL.index, df_15.NetPnL, alpha=0.5)\n",
    "a1.scatter(df_16.NetPnL.index, df_16.NetPnL, alpha=0.5)\n",
    "\n",
    "a0.set_title('2015')\n",
    "a0.set_xlabel('Trades', labelpad=10)\n",
    "a0.set_ylabel('Net PnL   (£)')\n",
    "\n",
    "a1.set_title('2016')\n",
    "a1.set_xlabel('Trades', labelpad=10)"
   ]
  },
  {
   "cell_type": "markdown",
   "metadata": {},
   "source": [
    "Distribution of PnLs with Seaborn box plot."
   ]
  },
  {
   "cell_type": "code",
   "execution_count": 26,
   "metadata": {},
   "outputs": [
    {
     "data": {
      "text/plain": [
       "<matplotlib.text.Text at 0xb7ee0b8>"
      ]
     },
     "execution_count": 26,
     "metadata": {},
     "output_type": "execute_result"
    },
    {
     "data": {
      "image/png": "[encoded data removed]",
      "text/plain": [
       "<matplotlib.figure.Figure at 0xb4f0ac8>"
      ]
     },
     "metadata": {},
     "output_type": "display_data"
    }
   ],
   "source": [
    "f, (a0, a1) = plt.subplots(2, 1, sharex=True, figsize=(6,6))\n",
    "f.suptitle('Net PnL Distribution')\n",
    "\n",
    "sns.boxplot(df_15.NetPnL, ax=a0)\n",
    "sns.boxplot(df_16.NetPnL, ax=a1)\n",
    "\n",
    "a0.set_title('2015')\n",
    "a0.set_xlabel('')\n",
    "\n",
    "a1.set_title('2016')\n",
    "a1.set_xlabel('Net PnL   (£)', labelpad=10)"
   ]
  },
  {
   "cell_type": "markdown",
   "metadata": {},
   "source": [
    "### Monthly PnL"
   ]
  },
  {
   "cell_type": "markdown",
   "metadata": {},
   "source": [
    "I was keen to bring the Monthly PnLs side by side, like we have seen with plots above."
   ]
  },
  {
   "cell_type": "code",
   "execution_count": 27,
   "metadata": {},
   "outputs": [
    {
     "data": {
      "text/html": [
       "<style  type=\"text/css\" >\n",
       "    #T_129bdcee_2b68_11e8_82db_4c72b97d5565row0_col0 {\n",
       "            color:  red;\n",
       "        }    #T_129bdcee_2b68_11e8_82db_4c72b97d5565row0_col1 {\n",
       "            color:  green;\n",
       "        }    #T_129bdcee_2b68_11e8_82db_4c72b97d5565row1_col0 {\n",
       "            color:  red;\n",
       "        }    #T_129bdcee_2b68_11e8_82db_4c72b97d5565row1_col1 {\n",
       "            color:  red;\n",
       "        }    #T_129bdcee_2b68_11e8_82db_4c72b97d5565row2_col0 {\n",
       "            color:  green;\n",
       "        }    #T_129bdcee_2b68_11e8_82db_4c72b97d5565row2_col1 {\n",
       "            color:  red;\n",
       "        }    #T_129bdcee_2b68_11e8_82db_4c72b97d5565row3_col0 {\n",
       "            color:  red;\n",
       "        }    #T_129bdcee_2b68_11e8_82db_4c72b97d5565row3_col1 {\n",
       "            color:  red;\n",
       "        }    #T_129bdcee_2b68_11e8_82db_4c72b97d5565row4_col0 {\n",
       "            color:  green;\n",
       "        }    #T_129bdcee_2b68_11e8_82db_4c72b97d5565row4_col1 {\n",
       "            color:  green;\n",
       "        }    #T_129bdcee_2b68_11e8_82db_4c72b97d5565row5_col0 {\n",
       "            color:  red;\n",
       "        }    #T_129bdcee_2b68_11e8_82db_4c72b97d5565row5_col1 {\n",
       "            color:  red;\n",
       "        }    #T_129bdcee_2b68_11e8_82db_4c72b97d5565row6_col0 {\n",
       "            color:  red;\n",
       "        }    #T_129bdcee_2b68_11e8_82db_4c72b97d5565row6_col1 {\n",
       "            color:  red;\n",
       "        }    #T_129bdcee_2b68_11e8_82db_4c72b97d5565row7_col0 {\n",
       "            color:  red;\n",
       "        }    #T_129bdcee_2b68_11e8_82db_4c72b97d5565row7_col1 {\n",
       "            color:  red;\n",
       "        }    #T_129bdcee_2b68_11e8_82db_4c72b97d5565row8_col0 {\n",
       "            color:  red;\n",
       "        }    #T_129bdcee_2b68_11e8_82db_4c72b97d5565row8_col1 {\n",
       "            color:  red;\n",
       "        }    #T_129bdcee_2b68_11e8_82db_4c72b97d5565row9_col0 {\n",
       "            color:  red;\n",
       "        }    #T_129bdcee_2b68_11e8_82db_4c72b97d5565row9_col1 {\n",
       "            color:  red;\n",
       "        }    #T_129bdcee_2b68_11e8_82db_4c72b97d5565row10_col0 {\n",
       "            color:  green;\n",
       "        }    #T_129bdcee_2b68_11e8_82db_4c72b97d5565row10_col1 {\n",
       "            color:  red;\n",
       "        }    #T_129bdcee_2b68_11e8_82db_4c72b97d5565row11_col0 {\n",
       "            color:  red;\n",
       "        }    #T_129bdcee_2b68_11e8_82db_4c72b97d5565row11_col1 {\n",
       "            color:  green;\n",
       "        }</style>  \n",
       "<table id=\"T_129bdcee_2b68_11e8_82db_4c72b97d5565\" > \n",
       "<thead>    <tr> \n",
       "        <th class=\"index_name level0\" >Year</th> \n",
       "        <th class=\"col_heading level0 col0\" >2015</th> \n",
       "        <th class=\"col_heading level0 col1\" >2016</th> \n",
       "    </tr>    <tr> \n",
       "        <th class=\"index_name level0\" >Month</th> \n",
       "        <th class=\"blank\" ></th> \n",
       "        <th class=\"blank\" ></th> \n",
       "    </tr></thead> \n",
       "<tbody>    <tr> \n",
       "        <th id=\"T_129bdcee_2b68_11e8_82db_4c72b97d5565\" class=\"row_heading level0 row0\" >Jan</th> \n",
       "        <td id=\"T_129bdcee_2b68_11e8_82db_4c72b97d5565row0_col0\" class=\"data row0 col0\" >-1974.01</td> \n",
       "        <td id=\"T_129bdcee_2b68_11e8_82db_4c72b97d5565row0_col1\" class=\"data row0 col1\" >679</td> \n",
       "    </tr>    <tr> \n",
       "        <th id=\"T_129bdcee_2b68_11e8_82db_4c72b97d5565\" class=\"row_heading level0 row1\" >Feb</th> \n",
       "        <td id=\"T_129bdcee_2b68_11e8_82db_4c72b97d5565row1_col0\" class=\"data row1 col0\" >-1064.58</td> \n",
       "        <td id=\"T_129bdcee_2b68_11e8_82db_4c72b97d5565row1_col1\" class=\"data row1 col1\" >-480.78</td> \n",
       "    </tr>    <tr> \n",
       "        <th id=\"T_129bdcee_2b68_11e8_82db_4c72b97d5565\" class=\"row_heading level0 row2\" >Mar</th> \n",
       "        <td id=\"T_129bdcee_2b68_11e8_82db_4c72b97d5565row2_col0\" class=\"data row2 col0\" >894.9</td> \n",
       "        <td id=\"T_129bdcee_2b68_11e8_82db_4c72b97d5565row2_col1\" class=\"data row2 col1\" >-528.18</td> \n",
       "    </tr>    <tr> \n",
       "        <th id=\"T_129bdcee_2b68_11e8_82db_4c72b97d5565\" class=\"row_heading level0 row3\" >Apr</th> \n",
       "        <td id=\"T_129bdcee_2b68_11e8_82db_4c72b97d5565row3_col0\" class=\"data row3 col0\" >-343.01</td> \n",
       "        <td id=\"T_129bdcee_2b68_11e8_82db_4c72b97d5565row3_col1\" class=\"data row3 col1\" >-108.51</td> \n",
       "    </tr>    <tr> \n",
       "        <th id=\"T_129bdcee_2b68_11e8_82db_4c72b97d5565\" class=\"row_heading level0 row4\" >May</th> \n",
       "        <td id=\"T_129bdcee_2b68_11e8_82db_4c72b97d5565row4_col0\" class=\"data row4 col0\" >58.94</td> \n",
       "        <td id=\"T_129bdcee_2b68_11e8_82db_4c72b97d5565row4_col1\" class=\"data row4 col1\" >48.17</td> \n",
       "    </tr>    <tr> \n",
       "        <th id=\"T_129bdcee_2b68_11e8_82db_4c72b97d5565\" class=\"row_heading level0 row5\" >Jun</th> \n",
       "        <td id=\"T_129bdcee_2b68_11e8_82db_4c72b97d5565row5_col0\" class=\"data row5 col0\" >-281.42</td> \n",
       "        <td id=\"T_129bdcee_2b68_11e8_82db_4c72b97d5565row5_col1\" class=\"data row5 col1\" >-212.61</td> \n",
       "    </tr>    <tr> \n",
       "        <th id=\"T_129bdcee_2b68_11e8_82db_4c72b97d5565\" class=\"row_heading level0 row6\" >Jul</th> \n",
       "        <td id=\"T_129bdcee_2b68_11e8_82db_4c72b97d5565row6_col0\" class=\"data row6 col0\" >-567.34</td> \n",
       "        <td id=\"T_129bdcee_2b68_11e8_82db_4c72b97d5565row6_col1\" class=\"data row6 col1\" >-55.64</td> \n",
       "    </tr>    <tr> \n",
       "        <th id=\"T_129bdcee_2b68_11e8_82db_4c72b97d5565\" class=\"row_heading level0 row7\" >Aug</th> \n",
       "        <td id=\"T_129bdcee_2b68_11e8_82db_4c72b97d5565row7_col0\" class=\"data row7 col0\" >-231.39</td> \n",
       "        <td id=\"T_129bdcee_2b68_11e8_82db_4c72b97d5565row7_col1\" class=\"data row7 col1\" >-420.37</td> \n",
       "    </tr>    <tr> \n",
       "        <th id=\"T_129bdcee_2b68_11e8_82db_4c72b97d5565\" class=\"row_heading level0 row8\" >Sep</th> \n",
       "        <td id=\"T_129bdcee_2b68_11e8_82db_4c72b97d5565row8_col0\" class=\"data row8 col0\" >-255.54</td> \n",
       "        <td id=\"T_129bdcee_2b68_11e8_82db_4c72b97d5565row8_col1\" class=\"data row8 col1\" >-204.07</td> \n",
       "    </tr>    <tr> \n",
       "        <th id=\"T_129bdcee_2b68_11e8_82db_4c72b97d5565\" class=\"row_heading level0 row9\" >Oct</th> \n",
       "        <td id=\"T_129bdcee_2b68_11e8_82db_4c72b97d5565row9_col0\" class=\"data row9 col0\" >-225.15</td> \n",
       "        <td id=\"T_129bdcee_2b68_11e8_82db_4c72b97d5565row9_col1\" class=\"data row9 col1\" >-50.14</td> \n",
       "    </tr>    <tr> \n",
       "        <th id=\"T_129bdcee_2b68_11e8_82db_4c72b97d5565\" class=\"row_heading level0 row10\" >Nov</th> \n",
       "        <td id=\"T_129bdcee_2b68_11e8_82db_4c72b97d5565row10_col0\" class=\"data row10 col0\" >284.72</td> \n",
       "        <td id=\"T_129bdcee_2b68_11e8_82db_4c72b97d5565row10_col1\" class=\"data row10 col1\" >-292.43</td> \n",
       "    </tr>    <tr> \n",
       "        <th id=\"T_129bdcee_2b68_11e8_82db_4c72b97d5565\" class=\"row_heading level0 row11\" >Dec</th> \n",
       "        <td id=\"T_129bdcee_2b68_11e8_82db_4c72b97d5565row11_col0\" class=\"data row11 col0\" >-1377.15</td> \n",
       "        <td id=\"T_129bdcee_2b68_11e8_82db_4c72b97d5565row11_col1\" class=\"data row11 col1\" >77.51</td> \n",
       "    </tr></tbody> \n",
       "</table> "
      ],
      "text/plain": [
       "<pandas.io.formats.style.Styler at 0xb8999b0>"
      ]
     },
     "execution_count": 27,
     "metadata": {},
     "output_type": "execute_result"
    }
   ],
   "source": [
    "df_pt_month_yr = df.pivot_table(values='NetPnL', aggfunc=sum,\n",
    "                                index='Month', columns='Year')\n",
    "\n",
    "def colorMap(x):\n",
    "    return 'color: %s' % ('red' if x < 0 else 'white' if x == 0 else 'green')\n",
    "\n",
    "df_pt_month_yr.style.applymap(colorMap, subset=['2015','2016'])"
   ]
  },
  {
   "cell_type": "markdown",
   "metadata": {},
   "source": [
    "We see that mean of monthly PnLs for 2015 is around -423, compared to -£129; its saying that 2015 was volatile.\n",
    "\n",
    "Similar inference can be gleaned from Standard Deviation. For 2015 its £759 while for 2016 its £322, the range is much wider for 2015.\n",
    "\n",
    "Also notice the min and max. Min for 2015 is -£1974 while for 2016 its -£528. The max - there is not much difference (£894 and £679)."
   ]
  },
  {
   "cell_type": "code",
   "execution_count": 28,
   "metadata": {},
   "outputs": [
    {
     "data": {
      "text/html": [
       "<div>\n",
       "<style>\n",
       "    .dataframe thead tr:only-child th {\n",
       "        text-align: right;\n",
       "    }\n",
       "\n",
       "    .dataframe thead th {\n",
       "        text-align: left;\n",
       "    }\n",
       "\n",
       "    .dataframe tbody tr th {\n",
       "        vertical-align: top;\n",
       "    }\n",
       "</style>\n",
       "<table border=\"1\" class=\"dataframe\">\n",
       "  <thead>\n",
       "    <tr style=\"text-align: right;\">\n",
       "      <th>Year</th>\n",
       "      <th>2015</th>\n",
       "      <th>2016</th>\n",
       "    </tr>\n",
       "  </thead>\n",
       "  <tbody>\n",
       "    <tr>\n",
       "      <th>count</th>\n",
       "      <td>12.00</td>\n",
       "      <td>12.00</td>\n",
       "    </tr>\n",
       "    <tr>\n",
       "      <th>mean</th>\n",
       "      <td>-423.42</td>\n",
       "      <td>-129.00</td>\n",
       "    </tr>\n",
       "    <tr>\n",
       "      <th>std</th>\n",
       "      <td>759.71</td>\n",
       "      <td>322.81</td>\n",
       "    </tr>\n",
       "    <tr>\n",
       "      <th>min</th>\n",
       "      <td>-1974.01</td>\n",
       "      <td>-528.18</td>\n",
       "    </tr>\n",
       "    <tr>\n",
       "      <th>25%</th>\n",
       "      <td>-691.65</td>\n",
       "      <td>-324.41</td>\n",
       "    </tr>\n",
       "    <tr>\n",
       "      <th>50%</th>\n",
       "      <td>-268.48</td>\n",
       "      <td>-156.29</td>\n",
       "    </tr>\n",
       "    <tr>\n",
       "      <th>75%</th>\n",
       "      <td>-154.13</td>\n",
       "      <td>-25.56</td>\n",
       "    </tr>\n",
       "    <tr>\n",
       "      <th>max</th>\n",
       "      <td>894.90</td>\n",
       "      <td>679.00</td>\n",
       "    </tr>\n",
       "  </tbody>\n",
       "</table>\n",
       "</div>"
      ],
      "text/plain": [
       "Year      2015    2016\n",
       "count    12.00   12.00\n",
       "mean   -423.42 -129.00\n",
       "std     759.71  322.81\n",
       "min   -1974.01 -528.18\n",
       "25%    -691.65 -324.41\n",
       "50%    -268.48 -156.29\n",
       "75%    -154.13  -25.56\n",
       "max     894.90  679.00"
      ]
     },
     "execution_count": 28,
     "metadata": {},
     "output_type": "execute_result"
    }
   ],
   "source": [
    "df_pt_month_yr.describe().round(2)"
   ]
  },
  {
   "cell_type": "markdown",
   "metadata": {},
   "source": [
    "Below is a plot of Monthly PnLs side by side for the 2 years."
   ]
  },
  {
   "cell_type": "code",
   "execution_count": 29,
   "metadata": {},
   "outputs": [
    {
     "data": {
      "text/plain": [
       "<matplotlib.text.Text at 0xba5c4e0>"
      ]
     },
     "execution_count": 29,
     "metadata": {},
     "output_type": "execute_result"
    },
    {
     "data": {
      "image/png": "[encoded data removed]",
      "text/plain": [
       "<matplotlib.figure.Figure at 0xba27198>"
      ]
     },
     "metadata": {},
     "output_type": "display_data"
    }
   ],
   "source": [
    "df_pt_month_yr_tmp = df_pt_month_yr.copy()\n",
    "df_pt_month_yr_tmp.columns.name = None\n",
    "df_pt_month_yr_tmp.reset_index(inplace=True)\n",
    "\n",
    "f, (a0, a1) = plt.subplots(1, 2, sharey=True, figsize=(10,4))\n",
    "f.suptitle('Monthly PnL')\n",
    "\n",
    "def colorMapGraph(df, col):\n",
    "    return np.sign(df[col]).map({-1:'r',1:'g'})\n",
    "\n",
    "def plotBar(year, ax):\n",
    "    df_pt_month_yr_tmp.plot.bar('Month',year, ax=ax,\n",
    "                            color=colorMapGraph(df_pt_month_yr_tmp, year),\n",
    "                            alpha=0.7,\n",
    "                            legend=False)\n",
    "    ax.set_title(year)\n",
    "    ax.set_xlabel('Month', labelpad=10)\n",
    "\n",
    "plotBar('2015', a0)\n",
    "plotBar('2016', a1)\n",
    "\n",
    "a0.set_ylabel('Net PnL   (£)')"
   ]
  },
  {
   "cell_type": "markdown",
   "metadata": {},
   "source": [
    "I wanted to plot another graph with the Monthly PnLs sorted, but before that lets display it in a tabular format.\n",
    "\n",
    "I have found that having both table data and visual dsplay is much better. I can switch from one to the other. Just having one is not enough. Say for example, in the graph, I can get a feel for the max PnL for both years, but sometimes I want to know the numbers too.\n",
    "\n",
    "Looking at the numbers, I can straight away see that for 2015 the max loss is -£1974 while for 2016 its -528. I can get a feel for the difference.\n",
    "\n",
    "While, if we look at the max PnL, down at the bottom, its £894 and £679 -  so not much difference there."
   ]
  },
  {
   "cell_type": "code",
   "execution_count": 30,
   "metadata": {},
   "outputs": [
    {
     "data": {
      "text/html": [
       "<style  type=\"text/css\" >\n",
       "    #T_1331d39e_2b68_11e8_b3f7_4c72b97d5565row0_col1 {\n",
       "            color:  red;\n",
       "        }    #T_1331d39e_2b68_11e8_b3f7_4c72b97d5565row0_col3 {\n",
       "            color:  red;\n",
       "        }    #T_1331d39e_2b68_11e8_b3f7_4c72b97d5565row1_col1 {\n",
       "            color:  red;\n",
       "        }    #T_1331d39e_2b68_11e8_b3f7_4c72b97d5565row1_col3 {\n",
       "            color:  red;\n",
       "        }    #T_1331d39e_2b68_11e8_b3f7_4c72b97d5565row2_col1 {\n",
       "            color:  red;\n",
       "        }    #T_1331d39e_2b68_11e8_b3f7_4c72b97d5565row2_col3 {\n",
       "            color:  red;\n",
       "        }    #T_1331d39e_2b68_11e8_b3f7_4c72b97d5565row3_col1 {\n",
       "            color:  red;\n",
       "        }    #T_1331d39e_2b68_11e8_b3f7_4c72b97d5565row3_col3 {\n",
       "            color:  red;\n",
       "        }    #T_1331d39e_2b68_11e8_b3f7_4c72b97d5565row4_col1 {\n",
       "            color:  red;\n",
       "        }    #T_1331d39e_2b68_11e8_b3f7_4c72b97d5565row4_col3 {\n",
       "            color:  red;\n",
       "        }    #T_1331d39e_2b68_11e8_b3f7_4c72b97d5565row5_col1 {\n",
       "            color:  red;\n",
       "        }    #T_1331d39e_2b68_11e8_b3f7_4c72b97d5565row5_col3 {\n",
       "            color:  red;\n",
       "        }    #T_1331d39e_2b68_11e8_b3f7_4c72b97d5565row6_col1 {\n",
       "            color:  red;\n",
       "        }    #T_1331d39e_2b68_11e8_b3f7_4c72b97d5565row6_col3 {\n",
       "            color:  red;\n",
       "        }    #T_1331d39e_2b68_11e8_b3f7_4c72b97d5565row7_col1 {\n",
       "            color:  red;\n",
       "        }    #T_1331d39e_2b68_11e8_b3f7_4c72b97d5565row7_col3 {\n",
       "            color:  red;\n",
       "        }    #T_1331d39e_2b68_11e8_b3f7_4c72b97d5565row8_col1 {\n",
       "            color:  red;\n",
       "        }    #T_1331d39e_2b68_11e8_b3f7_4c72b97d5565row8_col3 {\n",
       "            color:  red;\n",
       "        }    #T_1331d39e_2b68_11e8_b3f7_4c72b97d5565row9_col1 {\n",
       "            color:  green;\n",
       "        }    #T_1331d39e_2b68_11e8_b3f7_4c72b97d5565row9_col3 {\n",
       "            color:  green;\n",
       "        }    #T_1331d39e_2b68_11e8_b3f7_4c72b97d5565row10_col1 {\n",
       "            color:  green;\n",
       "        }    #T_1331d39e_2b68_11e8_b3f7_4c72b97d5565row10_col3 {\n",
       "            color:  green;\n",
       "        }    #T_1331d39e_2b68_11e8_b3f7_4c72b97d5565row11_col1 {\n",
       "            color:  green;\n",
       "        }    #T_1331d39e_2b68_11e8_b3f7_4c72b97d5565row11_col3 {\n",
       "            color:  green;\n",
       "        }</style>  \n",
       "<table id=\"T_1331d39e_2b68_11e8_b3f7_4c72b97d5565\" > \n",
       "<thead>    <tr> \n",
       "        <th class=\"blank level0\" ></th> \n",
       "        <th class=\"col_heading level0 col0\" colspan=2>2015</th> \n",
       "        <th class=\"col_heading level0 col2\" colspan=2>2016</th> \n",
       "    </tr>    <tr> \n",
       "        <th class=\"blank level1\" ></th> \n",
       "        <th class=\"col_heading level1 col0\" >Month</th> \n",
       "        <th class=\"col_heading level1 col1\" >NetPnL</th> \n",
       "        <th class=\"col_heading level1 col2\" >Month</th> \n",
       "        <th class=\"col_heading level1 col3\" >NetPnL</th> \n",
       "    </tr></thead> \n",
       "<tbody>    <tr> \n",
       "        <th id=\"T_1331d39e_2b68_11e8_b3f7_4c72b97d5565\" class=\"row_heading level0 row0\" >0</th> \n",
       "        <td id=\"T_1331d39e_2b68_11e8_b3f7_4c72b97d5565row0_col0\" class=\"data row0 col0\" >Jan</td> \n",
       "        <td id=\"T_1331d39e_2b68_11e8_b3f7_4c72b97d5565row0_col1\" class=\"data row0 col1\" >-1974.01</td> \n",
       "        <td id=\"T_1331d39e_2b68_11e8_b3f7_4c72b97d5565row0_col2\" class=\"data row0 col2\" >Mar</td> \n",
       "        <td id=\"T_1331d39e_2b68_11e8_b3f7_4c72b97d5565row0_col3\" class=\"data row0 col3\" >-528.18</td> \n",
       "    </tr>    <tr> \n",
       "        <th id=\"T_1331d39e_2b68_11e8_b3f7_4c72b97d5565\" class=\"row_heading level0 row1\" >1</th> \n",
       "        <td id=\"T_1331d39e_2b68_11e8_b3f7_4c72b97d5565row1_col0\" class=\"data row1 col0\" >Dec</td> \n",
       "        <td id=\"T_1331d39e_2b68_11e8_b3f7_4c72b97d5565row1_col1\" class=\"data row1 col1\" >-1377.15</td> \n",
       "        <td id=\"T_1331d39e_2b68_11e8_b3f7_4c72b97d5565row1_col2\" class=\"data row1 col2\" >Feb</td> \n",
       "        <td id=\"T_1331d39e_2b68_11e8_b3f7_4c72b97d5565row1_col3\" class=\"data row1 col3\" >-480.78</td> \n",
       "    </tr>    <tr> \n",
       "        <th id=\"T_1331d39e_2b68_11e8_b3f7_4c72b97d5565\" class=\"row_heading level0 row2\" >2</th> \n",
       "        <td id=\"T_1331d39e_2b68_11e8_b3f7_4c72b97d5565row2_col0\" class=\"data row2 col0\" >Feb</td> \n",
       "        <td id=\"T_1331d39e_2b68_11e8_b3f7_4c72b97d5565row2_col1\" class=\"data row2 col1\" >-1064.58</td> \n",
       "        <td id=\"T_1331d39e_2b68_11e8_b3f7_4c72b97d5565row2_col2\" class=\"data row2 col2\" >Aug</td> \n",
       "        <td id=\"T_1331d39e_2b68_11e8_b3f7_4c72b97d5565row2_col3\" class=\"data row2 col3\" >-420.37</td> \n",
       "    </tr>    <tr> \n",
       "        <th id=\"T_1331d39e_2b68_11e8_b3f7_4c72b97d5565\" class=\"row_heading level0 row3\" >3</th> \n",
       "        <td id=\"T_1331d39e_2b68_11e8_b3f7_4c72b97d5565row3_col0\" class=\"data row3 col0\" >Jul</td> \n",
       "        <td id=\"T_1331d39e_2b68_11e8_b3f7_4c72b97d5565row3_col1\" class=\"data row3 col1\" >-567.34</td> \n",
       "        <td id=\"T_1331d39e_2b68_11e8_b3f7_4c72b97d5565row3_col2\" class=\"data row3 col2\" >Nov</td> \n",
       "        <td id=\"T_1331d39e_2b68_11e8_b3f7_4c72b97d5565row3_col3\" class=\"data row3 col3\" >-292.43</td> \n",
       "    </tr>    <tr> \n",
       "        <th id=\"T_1331d39e_2b68_11e8_b3f7_4c72b97d5565\" class=\"row_heading level0 row4\" >4</th> \n",
       "        <td id=\"T_1331d39e_2b68_11e8_b3f7_4c72b97d5565row4_col0\" class=\"data row4 col0\" >Apr</td> \n",
       "        <td id=\"T_1331d39e_2b68_11e8_b3f7_4c72b97d5565row4_col1\" class=\"data row4 col1\" >-343.01</td> \n",
       "        <td id=\"T_1331d39e_2b68_11e8_b3f7_4c72b97d5565row4_col2\" class=\"data row4 col2\" >Jun</td> \n",
       "        <td id=\"T_1331d39e_2b68_11e8_b3f7_4c72b97d5565row4_col3\" class=\"data row4 col3\" >-212.61</td> \n",
       "    </tr>    <tr> \n",
       "        <th id=\"T_1331d39e_2b68_11e8_b3f7_4c72b97d5565\" class=\"row_heading level0 row5\" >5</th> \n",
       "        <td id=\"T_1331d39e_2b68_11e8_b3f7_4c72b97d5565row5_col0\" class=\"data row5 col0\" >Jun</td> \n",
       "        <td id=\"T_1331d39e_2b68_11e8_b3f7_4c72b97d5565row5_col1\" class=\"data row5 col1\" >-281.42</td> \n",
       "        <td id=\"T_1331d39e_2b68_11e8_b3f7_4c72b97d5565row5_col2\" class=\"data row5 col2\" >Sep</td> \n",
       "        <td id=\"T_1331d39e_2b68_11e8_b3f7_4c72b97d5565row5_col3\" class=\"data row5 col3\" >-204.07</td> \n",
       "    </tr>    <tr> \n",
       "        <th id=\"T_1331d39e_2b68_11e8_b3f7_4c72b97d5565\" class=\"row_heading level0 row6\" >6</th> \n",
       "        <td id=\"T_1331d39e_2b68_11e8_b3f7_4c72b97d5565row6_col0\" class=\"data row6 col0\" >Sep</td> \n",
       "        <td id=\"T_1331d39e_2b68_11e8_b3f7_4c72b97d5565row6_col1\" class=\"data row6 col1\" >-255.54</td> \n",
       "        <td id=\"T_1331d39e_2b68_11e8_b3f7_4c72b97d5565row6_col2\" class=\"data row6 col2\" >Apr</td> \n",
       "        <td id=\"T_1331d39e_2b68_11e8_b3f7_4c72b97d5565row6_col3\" class=\"data row6 col3\" >-108.51</td> \n",
       "    </tr>    <tr> \n",
       "        <th id=\"T_1331d39e_2b68_11e8_b3f7_4c72b97d5565\" class=\"row_heading level0 row7\" >7</th> \n",
       "        <td id=\"T_1331d39e_2b68_11e8_b3f7_4c72b97d5565row7_col0\" class=\"data row7 col0\" >Aug</td> \n",
       "        <td id=\"T_1331d39e_2b68_11e8_b3f7_4c72b97d5565row7_col1\" class=\"data row7 col1\" >-231.39</td> \n",
       "        <td id=\"T_1331d39e_2b68_11e8_b3f7_4c72b97d5565row7_col2\" class=\"data row7 col2\" >Jul</td> \n",
       "        <td id=\"T_1331d39e_2b68_11e8_b3f7_4c72b97d5565row7_col3\" class=\"data row7 col3\" >-55.64</td> \n",
       "    </tr>    <tr> \n",
       "        <th id=\"T_1331d39e_2b68_11e8_b3f7_4c72b97d5565\" class=\"row_heading level0 row8\" >8</th> \n",
       "        <td id=\"T_1331d39e_2b68_11e8_b3f7_4c72b97d5565row8_col0\" class=\"data row8 col0\" >Oct</td> \n",
       "        <td id=\"T_1331d39e_2b68_11e8_b3f7_4c72b97d5565row8_col1\" class=\"data row8 col1\" >-225.15</td> \n",
       "        <td id=\"T_1331d39e_2b68_11e8_b3f7_4c72b97d5565row8_col2\" class=\"data row8 col2\" >Oct</td> \n",
       "        <td id=\"T_1331d39e_2b68_11e8_b3f7_4c72b97d5565row8_col3\" class=\"data row8 col3\" >-50.14</td> \n",
       "    </tr>    <tr> \n",
       "        <th id=\"T_1331d39e_2b68_11e8_b3f7_4c72b97d5565\" class=\"row_heading level0 row9\" >9</th> \n",
       "        <td id=\"T_1331d39e_2b68_11e8_b3f7_4c72b97d5565row9_col0\" class=\"data row9 col0\" >May</td> \n",
       "        <td id=\"T_1331d39e_2b68_11e8_b3f7_4c72b97d5565row9_col1\" class=\"data row9 col1\" >58.94</td> \n",
       "        <td id=\"T_1331d39e_2b68_11e8_b3f7_4c72b97d5565row9_col2\" class=\"data row9 col2\" >May</td> \n",
       "        <td id=\"T_1331d39e_2b68_11e8_b3f7_4c72b97d5565row9_col3\" class=\"data row9 col3\" >48.17</td> \n",
       "    </tr>    <tr> \n",
       "        <th id=\"T_1331d39e_2b68_11e8_b3f7_4c72b97d5565\" class=\"row_heading level0 row10\" >10</th> \n",
       "        <td id=\"T_1331d39e_2b68_11e8_b3f7_4c72b97d5565row10_col0\" class=\"data row10 col0\" >Nov</td> \n",
       "        <td id=\"T_1331d39e_2b68_11e8_b3f7_4c72b97d5565row10_col1\" class=\"data row10 col1\" >284.72</td> \n",
       "        <td id=\"T_1331d39e_2b68_11e8_b3f7_4c72b97d5565row10_col2\" class=\"data row10 col2\" >Dec</td> \n",
       "        <td id=\"T_1331d39e_2b68_11e8_b3f7_4c72b97d5565row10_col3\" class=\"data row10 col3\" >77.51</td> \n",
       "    </tr>    <tr> \n",
       "        <th id=\"T_1331d39e_2b68_11e8_b3f7_4c72b97d5565\" class=\"row_heading level0 row11\" >11</th> \n",
       "        <td id=\"T_1331d39e_2b68_11e8_b3f7_4c72b97d5565row11_col0\" class=\"data row11 col0\" >Mar</td> \n",
       "        <td id=\"T_1331d39e_2b68_11e8_b3f7_4c72b97d5565row11_col1\" class=\"data row11 col1\" >894.9</td> \n",
       "        <td id=\"T_1331d39e_2b68_11e8_b3f7_4c72b97d5565row11_col2\" class=\"data row11 col2\" >Jan</td> \n",
       "        <td id=\"T_1331d39e_2b68_11e8_b3f7_4c72b97d5565row11_col3\" class=\"data row11 col3\" >679</td> \n",
       "    </tr></tbody> \n",
       "</table> "
      ],
      "text/plain": [
       "<pandas.io.formats.style.Styler at 0xba27978>"
      ]
     },
     "execution_count": 30,
     "metadata": {},
     "output_type": "execute_result"
    }
   ],
   "source": [
    "df_15_t = df_15.groupby(['Month'], as_index=False)['NetPnL'].sum().sort_values('NetPnL').reset_index(drop=True)\n",
    "df_16_t = df_16.groupby(['Month'], as_index=False)['NetPnL'].sum().sort_values('NetPnL').reset_index(drop=True)\n",
    "df_ct = pd.concat([df_15_t, df_16_t], axis=1, keys=['2015','2016'])\n",
    "df_ct.style.applymap(colorMap, subset=[('2015','NetPnL'),(('2016','NetPnL'))])"
   ]
  },
  {
   "cell_type": "markdown",
   "metadata": {},
   "source": [
    "Now that we have seen the numbers - Monthly Net PnLs, lets plot the graph.\n",
    "\n",
    "At the risk of repeating what we have observed before, we see that the losses in 2016 were much lesser than in 2015. The point of doing this exercise is to see if we can come at the same conclusions from different angles."
   ]
  },
  {
   "cell_type": "code",
   "execution_count": 31,
   "metadata": {
    "scrolled": true
   },
   "outputs": [
    {
     "data": {
      "text/plain": [
       "<matplotlib.text.Text at 0xbc673c8>"
      ]
     },
     "execution_count": 31,
     "metadata": {},
     "output_type": "execute_result"
    },
    {
     "data": {
      "image/png": "[encoded data removed]",
      "text/plain": [
       "<matplotlib.figure.Figure at 0xbbd1358>"
      ]
     },
     "metadata": {},
     "output_type": "display_data"
    }
   ],
   "source": [
    "f, (a0, a1) = plt.subplots(1, 2, sharey=True, figsize=(10,4))\n",
    "f.suptitle('Monthly PnL Sorted')\n",
    "\n",
    "def plot_MonthlyPnL_Sorted(df, year, ax):\n",
    "    df.plot.bar('Month','NetPnL', ax=ax,\n",
    "                color=colorMapGraph(df, 'NetPnL'),\n",
    "                alpha=0.7,\n",
    "                legend=False)\n",
    "    ax.set_title(year)\n",
    "    ax.set_xlabel('Month', labelpad=10)\n",
    "\n",
    "plot_MonthlyPnL_Sorted(df_15_t, '2015', a0)\n",
    "plot_MonthlyPnL_Sorted(df_16_t, '2016', a1)\n",
    "\n",
    "a0.set_ylabel('Net PnL   (£)')"
   ]
  },
  {
   "cell_type": "markdown",
   "metadata": {},
   "source": [
    "### PnL by Individual Trades"
   ]
  },
  {
   "cell_type": "markdown",
   "metadata": {},
   "source": [
    "We shall see the top 20 markets - top 10 profits and top 10 losses, from each year side by side.\n",
    "\n",
    "We see that the max loss in 2015 was from USDCHF with -£1046 and in 2016 it was from Silver (XAG) with -£210. The difference again, screams out.\n",
    "\n",
    "In 2016, the losses dropped steeply after Silver, the next one from CADCHF was with -£62, and from there all losses are below £100. While in 2015, all losses were above £100.\n",
    "\n",
    "With regards to max profits, from both years, we observe that it was GBPJPY that gave the biggest profits."
   ]
  },
  {
   "cell_type": "code",
   "execution_count": 32,
   "metadata": {},
   "outputs": [
    {
     "data": {
      "text/html": [
       "<style  type=\"text/css\" >\n",
       "    #T_13d3b130_2b68_11e8_b6d3_4c72b97d5565row0_col1 {\n",
       "            color:  red;\n",
       "        }    #T_13d3b130_2b68_11e8_b6d3_4c72b97d5565row0_col3 {\n",
       "            color:  red;\n",
       "        }    #T_13d3b130_2b68_11e8_b6d3_4c72b97d5565row1_col1 {\n",
       "            color:  red;\n",
       "        }    #T_13d3b130_2b68_11e8_b6d3_4c72b97d5565row1_col3 {\n",
       "            color:  red;\n",
       "        }    #T_13d3b130_2b68_11e8_b6d3_4c72b97d5565row2_col1 {\n",
       "            color:  red;\n",
       "        }    #T_13d3b130_2b68_11e8_b6d3_4c72b97d5565row2_col3 {\n",
       "            color:  red;\n",
       "        }    #T_13d3b130_2b68_11e8_b6d3_4c72b97d5565row3_col1 {\n",
       "            color:  red;\n",
       "        }    #T_13d3b130_2b68_11e8_b6d3_4c72b97d5565row3_col3 {\n",
       "            color:  red;\n",
       "        }    #T_13d3b130_2b68_11e8_b6d3_4c72b97d5565row4_col1 {\n",
       "            color:  red;\n",
       "        }    #T_13d3b130_2b68_11e8_b6d3_4c72b97d5565row4_col3 {\n",
       "            color:  red;\n",
       "        }    #T_13d3b130_2b68_11e8_b6d3_4c72b97d5565row5_col1 {\n",
       "            color:  red;\n",
       "        }    #T_13d3b130_2b68_11e8_b6d3_4c72b97d5565row5_col3 {\n",
       "            color:  red;\n",
       "        }    #T_13d3b130_2b68_11e8_b6d3_4c72b97d5565row6_col1 {\n",
       "            color:  red;\n",
       "        }    #T_13d3b130_2b68_11e8_b6d3_4c72b97d5565row6_col3 {\n",
       "            color:  red;\n",
       "        }    #T_13d3b130_2b68_11e8_b6d3_4c72b97d5565row7_col1 {\n",
       "            color:  red;\n",
       "        }    #T_13d3b130_2b68_11e8_b6d3_4c72b97d5565row7_col3 {\n",
       "            color:  red;\n",
       "        }    #T_13d3b130_2b68_11e8_b6d3_4c72b97d5565row8_col1 {\n",
       "            color:  red;\n",
       "        }    #T_13d3b130_2b68_11e8_b6d3_4c72b97d5565row8_col3 {\n",
       "            color:  red;\n",
       "        }    #T_13d3b130_2b68_11e8_b6d3_4c72b97d5565row9_col1 {\n",
       "            color:  red;\n",
       "        }    #T_13d3b130_2b68_11e8_b6d3_4c72b97d5565row9_col3 {\n",
       "            color:  red;\n",
       "        }    #T_13d3b130_2b68_11e8_b6d3_4c72b97d5565row10_col1 {\n",
       "            color:  green;\n",
       "        }    #T_13d3b130_2b68_11e8_b6d3_4c72b97d5565row10_col3 {\n",
       "            color:  green;\n",
       "        }    #T_13d3b130_2b68_11e8_b6d3_4c72b97d5565row11_col1 {\n",
       "            color:  green;\n",
       "        }    #T_13d3b130_2b68_11e8_b6d3_4c72b97d5565row11_col3 {\n",
       "            color:  green;\n",
       "        }    #T_13d3b130_2b68_11e8_b6d3_4c72b97d5565row12_col1 {\n",
       "            color:  green;\n",
       "        }    #T_13d3b130_2b68_11e8_b6d3_4c72b97d5565row12_col3 {\n",
       "            color:  green;\n",
       "        }    #T_13d3b130_2b68_11e8_b6d3_4c72b97d5565row13_col1 {\n",
       "            color:  green;\n",
       "        }    #T_13d3b130_2b68_11e8_b6d3_4c72b97d5565row13_col3 {\n",
       "            color:  green;\n",
       "        }    #T_13d3b130_2b68_11e8_b6d3_4c72b97d5565row14_col1 {\n",
       "            color:  green;\n",
       "        }    #T_13d3b130_2b68_11e8_b6d3_4c72b97d5565row14_col3 {\n",
       "            color:  green;\n",
       "        }    #T_13d3b130_2b68_11e8_b6d3_4c72b97d5565row15_col1 {\n",
       "            color:  green;\n",
       "        }    #T_13d3b130_2b68_11e8_b6d3_4c72b97d5565row15_col3 {\n",
       "            color:  green;\n",
       "        }    #T_13d3b130_2b68_11e8_b6d3_4c72b97d5565row16_col1 {\n",
       "            color:  green;\n",
       "        }    #T_13d3b130_2b68_11e8_b6d3_4c72b97d5565row16_col3 {\n",
       "            color:  green;\n",
       "        }    #T_13d3b130_2b68_11e8_b6d3_4c72b97d5565row17_col1 {\n",
       "            color:  green;\n",
       "        }    #T_13d3b130_2b68_11e8_b6d3_4c72b97d5565row17_col3 {\n",
       "            color:  green;\n",
       "        }    #T_13d3b130_2b68_11e8_b6d3_4c72b97d5565row18_col1 {\n",
       "            color:  green;\n",
       "        }    #T_13d3b130_2b68_11e8_b6d3_4c72b97d5565row18_col3 {\n",
       "            color:  green;\n",
       "        }    #T_13d3b130_2b68_11e8_b6d3_4c72b97d5565row19_col1 {\n",
       "            color:  green;\n",
       "        }    #T_13d3b130_2b68_11e8_b6d3_4c72b97d5565row19_col3 {\n",
       "            color:  green;\n",
       "        }</style>  \n",
       "<table id=\"T_13d3b130_2b68_11e8_b6d3_4c72b97d5565\" > \n",
       "<thead>    <tr> \n",
       "        <th class=\"blank level0\" ></th> \n",
       "        <th class=\"col_heading level0 col0\" colspan=2>2015</th> \n",
       "        <th class=\"col_heading level0 col2\" colspan=2>2016</th> \n",
       "    </tr>    <tr> \n",
       "        <th class=\"blank level1\" ></th> \n",
       "        <th class=\"col_heading level1 col0\" >Markets</th> \n",
       "        <th class=\"col_heading level1 col1\" >NetPnL</th> \n",
       "        <th class=\"col_heading level1 col2\" >Markets</th> \n",
       "        <th class=\"col_heading level1 col3\" >NetPnL</th> \n",
       "    </tr></thead> \n",
       "<tbody>    <tr> \n",
       "        <th id=\"T_13d3b130_2b68_11e8_b6d3_4c72b97d5565\" class=\"row_heading level0 row0\" >0</th> \n",
       "        <td id=\"T_13d3b130_2b68_11e8_b6d3_4c72b97d5565row0_col0\" class=\"data row0 col0\" >USD/CHF</td> \n",
       "        <td id=\"T_13d3b130_2b68_11e8_b6d3_4c72b97d5565row0_col1\" class=\"data row0 col1\" >-1046.04</td> \n",
       "        <td id=\"T_13d3b130_2b68_11e8_b6d3_4c72b97d5565row0_col2\" class=\"data row0 col2\" >XAG/USD</td> \n",
       "        <td id=\"T_13d3b130_2b68_11e8_b6d3_4c72b97d5565row0_col3\" class=\"data row0 col3\" >-210.7</td> \n",
       "    </tr>    <tr> \n",
       "        <th id=\"T_13d3b130_2b68_11e8_b6d3_4c72b97d5565\" class=\"row_heading level0 row1\" >1</th> \n",
       "        <td id=\"T_13d3b130_2b68_11e8_b6d3_4c72b97d5565row1_col0\" class=\"data row1 col0\" >CHF/JPY</td> \n",
       "        <td id=\"T_13d3b130_2b68_11e8_b6d3_4c72b97d5565row1_col1\" class=\"data row1 col1\" >-1002.91</td> \n",
       "        <td id=\"T_13d3b130_2b68_11e8_b6d3_4c72b97d5565row1_col2\" class=\"data row1 col2\" >CAD/CHF</td> \n",
       "        <td id=\"T_13d3b130_2b68_11e8_b6d3_4c72b97d5565row1_col3\" class=\"data row1 col3\" >-62.6</td> \n",
       "    </tr>    <tr> \n",
       "        <th id=\"T_13d3b130_2b68_11e8_b6d3_4c72b97d5565\" class=\"row_heading level0 row2\" >2</th> \n",
       "        <td id=\"T_13d3b130_2b68_11e8_b6d3_4c72b97d5565row2_col0\" class=\"data row2 col0\" >CHF/JPY</td> \n",
       "        <td id=\"T_13d3b130_2b68_11e8_b6d3_4c72b97d5565row2_col1\" class=\"data row2 col1\" >-995.31</td> \n",
       "        <td id=\"T_13d3b130_2b68_11e8_b6d3_4c72b97d5565row2_col2\" class=\"data row2 col2\" >GBP/AUD</td> \n",
       "        <td id=\"T_13d3b130_2b68_11e8_b6d3_4c72b97d5565row2_col3\" class=\"data row2 col3\" >-58.97</td> \n",
       "    </tr>    <tr> \n",
       "        <th id=\"T_13d3b130_2b68_11e8_b6d3_4c72b97d5565\" class=\"row_heading level0 row3\" >3</th> \n",
       "        <td id=\"T_13d3b130_2b68_11e8_b6d3_4c72b97d5565row3_col0\" class=\"data row3 col0\" >USD/CHF</td> \n",
       "        <td id=\"T_13d3b130_2b68_11e8_b6d3_4c72b97d5565row3_col1\" class=\"data row3 col1\" >-976.5</td> \n",
       "        <td id=\"T_13d3b130_2b68_11e8_b6d3_4c72b97d5565row3_col2\" class=\"data row3 col2\" >EUR/JPY</td> \n",
       "        <td id=\"T_13d3b130_2b68_11e8_b6d3_4c72b97d5565row3_col3\" class=\"data row3 col3\" >-56.57</td> \n",
       "    </tr>    <tr> \n",
       "        <th id=\"T_13d3b130_2b68_11e8_b6d3_4c72b97d5565\" class=\"row_heading level0 row4\" >4</th> \n",
       "        <td id=\"T_13d3b130_2b68_11e8_b6d3_4c72b97d5565row4_col0\" class=\"data row4 col0\" >GBP/JPY</td> \n",
       "        <td id=\"T_13d3b130_2b68_11e8_b6d3_4c72b97d5565row4_col1\" class=\"data row4 col1\" >-268.16</td> \n",
       "        <td id=\"T_13d3b130_2b68_11e8_b6d3_4c72b97d5565row4_col2\" class=\"data row4 col2\" >USD/NOK</td> \n",
       "        <td id=\"T_13d3b130_2b68_11e8_b6d3_4c72b97d5565row4_col3\" class=\"data row4 col3\" >-49.31</td> \n",
       "    </tr>    <tr> \n",
       "        <th id=\"T_13d3b130_2b68_11e8_b6d3_4c72b97d5565\" class=\"row_heading level0 row5\" >5</th> \n",
       "        <td id=\"T_13d3b130_2b68_11e8_b6d3_4c72b97d5565row5_col0\" class=\"data row5 col0\" >GBP/JPY</td> \n",
       "        <td id=\"T_13d3b130_2b68_11e8_b6d3_4c72b97d5565row5_col1\" class=\"data row5 col1\" >-266.01</td> \n",
       "        <td id=\"T_13d3b130_2b68_11e8_b6d3_4c72b97d5565row5_col2\" class=\"data row5 col2\" >XAU/USD</td> \n",
       "        <td id=\"T_13d3b130_2b68_11e8_b6d3_4c72b97d5565row5_col3\" class=\"data row5 col3\" >-47.17</td> \n",
       "    </tr>    <tr> \n",
       "        <th id=\"T_13d3b130_2b68_11e8_b6d3_4c72b97d5565\" class=\"row_heading level0 row6\" >6</th> \n",
       "        <td id=\"T_13d3b130_2b68_11e8_b6d3_4c72b97d5565row6_col0\" class=\"data row6 col0\" >EUR/TRY</td> \n",
       "        <td id=\"T_13d3b130_2b68_11e8_b6d3_4c72b97d5565row6_col1\" class=\"data row6 col1\" >-227.43</td> \n",
       "        <td id=\"T_13d3b130_2b68_11e8_b6d3_4c72b97d5565row6_col2\" class=\"data row6 col2\" >AUD/USD</td> \n",
       "        <td id=\"T_13d3b130_2b68_11e8_b6d3_4c72b97d5565row6_col3\" class=\"data row6 col3\" >-47.13</td> \n",
       "    </tr>    <tr> \n",
       "        <th id=\"T_13d3b130_2b68_11e8_b6d3_4c72b97d5565\" class=\"row_heading level0 row7\" >7</th> \n",
       "        <td id=\"T_13d3b130_2b68_11e8_b6d3_4c72b97d5565row7_col0\" class=\"data row7 col0\" >EUR/NZD</td> \n",
       "        <td id=\"T_13d3b130_2b68_11e8_b6d3_4c72b97d5565row7_col1\" class=\"data row7 col1\" >-220.27</td> \n",
       "        <td id=\"T_13d3b130_2b68_11e8_b6d3_4c72b97d5565row7_col2\" class=\"data row7 col2\" >CHF/JPY</td> \n",
       "        <td id=\"T_13d3b130_2b68_11e8_b6d3_4c72b97d5565row7_col3\" class=\"data row7 col3\" >-46.36</td> \n",
       "    </tr>    <tr> \n",
       "        <th id=\"T_13d3b130_2b68_11e8_b6d3_4c72b97d5565\" class=\"row_heading level0 row8\" >8</th> \n",
       "        <td id=\"T_13d3b130_2b68_11e8_b6d3_4c72b97d5565row8_col0\" class=\"data row8 col0\" >GBP/JPY</td> \n",
       "        <td id=\"T_13d3b130_2b68_11e8_b6d3_4c72b97d5565row8_col1\" class=\"data row8 col1\" >-205.08</td> \n",
       "        <td id=\"T_13d3b130_2b68_11e8_b6d3_4c72b97d5565row8_col2\" class=\"data row8 col2\" >CHF/JPY</td> \n",
       "        <td id=\"T_13d3b130_2b68_11e8_b6d3_4c72b97d5565row8_col3\" class=\"data row8 col3\" >-46.33</td> \n",
       "    </tr>    <tr> \n",
       "        <th id=\"T_13d3b130_2b68_11e8_b6d3_4c72b97d5565\" class=\"row_heading level0 row9\" >9</th> \n",
       "        <td id=\"T_13d3b130_2b68_11e8_b6d3_4c72b97d5565row9_col0\" class=\"data row9 col0\" >EUR/USD</td> \n",
       "        <td id=\"T_13d3b130_2b68_11e8_b6d3_4c72b97d5565row9_col1\" class=\"data row9 col1\" >-186.69</td> \n",
       "        <td id=\"T_13d3b130_2b68_11e8_b6d3_4c72b97d5565row9_col2\" class=\"data row9 col2\" >Copper</td> \n",
       "        <td id=\"T_13d3b130_2b68_11e8_b6d3_4c72b97d5565row9_col3\" class=\"data row9 col3\" >-46.15</td> \n",
       "    </tr>    <tr> \n",
       "        <th id=\"T_13d3b130_2b68_11e8_b6d3_4c72b97d5565\" class=\"row_heading level0 row10\" >10</th> \n",
       "        <td id=\"T_13d3b130_2b68_11e8_b6d3_4c72b97d5565row10_col0\" class=\"data row10 col0\" >GBP/JPY</td> \n",
       "        <td id=\"T_13d3b130_2b68_11e8_b6d3_4c72b97d5565row10_col1\" class=\"data row10 col1\" >126.06</td> \n",
       "        <td id=\"T_13d3b130_2b68_11e8_b6d3_4c72b97d5565row10_col2\" class=\"data row10 col2\" >EUR/GBP</td> \n",
       "        <td id=\"T_13d3b130_2b68_11e8_b6d3_4c72b97d5565row10_col3\" class=\"data row10 col3\" >56.56</td> \n",
       "    </tr>    <tr> \n",
       "        <th id=\"T_13d3b130_2b68_11e8_b6d3_4c72b97d5565\" class=\"row_heading level0 row11\" >11</th> \n",
       "        <td id=\"T_13d3b130_2b68_11e8_b6d3_4c72b97d5565row11_col0\" class=\"data row11 col0\" >GBP/JPY</td> \n",
       "        <td id=\"T_13d3b130_2b68_11e8_b6d3_4c72b97d5565row11_col1\" class=\"data row11 col1\" >126.88</td> \n",
       "        <td id=\"T_13d3b130_2b68_11e8_b6d3_4c72b97d5565row11_col2\" class=\"data row11 col2\" >NZD/JPY</td> \n",
       "        <td id=\"T_13d3b130_2b68_11e8_b6d3_4c72b97d5565row11_col3\" class=\"data row11 col3\" >57.44</td> \n",
       "    </tr>    <tr> \n",
       "        <th id=\"T_13d3b130_2b68_11e8_b6d3_4c72b97d5565\" class=\"row_heading level0 row12\" >12</th> \n",
       "        <td id=\"T_13d3b130_2b68_11e8_b6d3_4c72b97d5565row12_col0\" class=\"data row12 col0\" >USD/JPY</td> \n",
       "        <td id=\"T_13d3b130_2b68_11e8_b6d3_4c72b97d5565row12_col1\" class=\"data row12 col1\" >135.37</td> \n",
       "        <td id=\"T_13d3b130_2b68_11e8_b6d3_4c72b97d5565row12_col2\" class=\"data row12 col2\" >AUD/USD</td> \n",
       "        <td id=\"T_13d3b130_2b68_11e8_b6d3_4c72b97d5565row12_col3\" class=\"data row12 col3\" >59.48</td> \n",
       "    </tr>    <tr> \n",
       "        <th id=\"T_13d3b130_2b68_11e8_b6d3_4c72b97d5565\" class=\"row_heading level0 row13\" >13</th> \n",
       "        <td id=\"T_13d3b130_2b68_11e8_b6d3_4c72b97d5565row13_col0\" class=\"data row13 col0\" >EUR/AUD</td> \n",
       "        <td id=\"T_13d3b130_2b68_11e8_b6d3_4c72b97d5565row13_col1\" class=\"data row13 col1\" >145.57</td> \n",
       "        <td id=\"T_13d3b130_2b68_11e8_b6d3_4c72b97d5565row13_col2\" class=\"data row13 col2\" >GBP/JPY</td> \n",
       "        <td id=\"T_13d3b130_2b68_11e8_b6d3_4c72b97d5565row13_col3\" class=\"data row13 col3\" >62.73</td> \n",
       "    </tr>    <tr> \n",
       "        <th id=\"T_13d3b130_2b68_11e8_b6d3_4c72b97d5565\" class=\"row_heading level0 row14\" >14</th> \n",
       "        <td id=\"T_13d3b130_2b68_11e8_b6d3_4c72b97d5565row14_col0\" class=\"data row14 col0\" >NZD/CAD</td> \n",
       "        <td id=\"T_13d3b130_2b68_11e8_b6d3_4c72b97d5565row14_col1\" class=\"data row14 col1\" >147.9</td> \n",
       "        <td id=\"T_13d3b130_2b68_11e8_b6d3_4c72b97d5565row14_col2\" class=\"data row14 col2\" >AUD/CHF</td> \n",
       "        <td id=\"T_13d3b130_2b68_11e8_b6d3_4c72b97d5565row14_col3\" class=\"data row14 col3\" >66.5</td> \n",
       "    </tr>    <tr> \n",
       "        <th id=\"T_13d3b130_2b68_11e8_b6d3_4c72b97d5565\" class=\"row_heading level0 row15\" >15</th> \n",
       "        <td id=\"T_13d3b130_2b68_11e8_b6d3_4c72b97d5565row15_col0\" class=\"data row15 col0\" >GBP/AUD</td> \n",
       "        <td id=\"T_13d3b130_2b68_11e8_b6d3_4c72b97d5565row15_col1\" class=\"data row15 col1\" >150.45</td> \n",
       "        <td id=\"T_13d3b130_2b68_11e8_b6d3_4c72b97d5565row15_col2\" class=\"data row15 col2\" >CAD/JPY</td> \n",
       "        <td id=\"T_13d3b130_2b68_11e8_b6d3_4c72b97d5565row15_col3\" class=\"data row15 col3\" >70.82</td> \n",
       "    </tr>    <tr> \n",
       "        <th id=\"T_13d3b130_2b68_11e8_b6d3_4c72b97d5565\" class=\"row_heading level0 row16\" >16</th> \n",
       "        <td id=\"T_13d3b130_2b68_11e8_b6d3_4c72b97d5565row16_col0\" class=\"data row16 col0\" >EUR/CAD</td> \n",
       "        <td id=\"T_13d3b130_2b68_11e8_b6d3_4c72b97d5565row16_col1\" class=\"data row16 col1\" >205.44</td> \n",
       "        <td id=\"T_13d3b130_2b68_11e8_b6d3_4c72b97d5565row16_col2\" class=\"data row16 col2\" >AUD/JPY</td> \n",
       "        <td id=\"T_13d3b130_2b68_11e8_b6d3_4c72b97d5565row16_col3\" class=\"data row16 col3\" >79.02</td> \n",
       "    </tr>    <tr> \n",
       "        <th id=\"T_13d3b130_2b68_11e8_b6d3_4c72b97d5565\" class=\"row_heading level0 row17\" >17</th> \n",
       "        <td id=\"T_13d3b130_2b68_11e8_b6d3_4c72b97d5565row17_col0\" class=\"data row17 col0\" >EUR/JPY</td> \n",
       "        <td id=\"T_13d3b130_2b68_11e8_b6d3_4c72b97d5565row17_col1\" class=\"data row17 col1\" >261.27</td> \n",
       "        <td id=\"T_13d3b130_2b68_11e8_b6d3_4c72b97d5565row17_col2\" class=\"data row17 col2\" >GBP/JPY</td> \n",
       "        <td id=\"T_13d3b130_2b68_11e8_b6d3_4c72b97d5565row17_col3\" class=\"data row17 col3\" >106.13</td> \n",
       "    </tr>    <tr> \n",
       "        <th id=\"T_13d3b130_2b68_11e8_b6d3_4c72b97d5565\" class=\"row_heading level0 row18\" >18</th> \n",
       "        <td id=\"T_13d3b130_2b68_11e8_b6d3_4c72b97d5565row18_col0\" class=\"data row18 col0\" >EUR/AUD</td> \n",
       "        <td id=\"T_13d3b130_2b68_11e8_b6d3_4c72b97d5565row18_col1\" class=\"data row18 col1\" >315.87</td> \n",
       "        <td id=\"T_13d3b130_2b68_11e8_b6d3_4c72b97d5565row18_col2\" class=\"data row18 col2\" >CAD/JPY</td> \n",
       "        <td id=\"T_13d3b130_2b68_11e8_b6d3_4c72b97d5565row18_col3\" class=\"data row18 col3\" >149.77</td> \n",
       "    </tr>    <tr> \n",
       "        <th id=\"T_13d3b130_2b68_11e8_b6d3_4c72b97d5565\" class=\"row_heading level0 row19\" >19</th> \n",
       "        <td id=\"T_13d3b130_2b68_11e8_b6d3_4c72b97d5565row19_col0\" class=\"data row19 col0\" >GBP/JPY</td> \n",
       "        <td id=\"T_13d3b130_2b68_11e8_b6d3_4c72b97d5565row19_col1\" class=\"data row19 col1\" >377.58</td> \n",
       "        <td id=\"T_13d3b130_2b68_11e8_b6d3_4c72b97d5565row19_col2\" class=\"data row19 col2\" >GBP/JPY</td> \n",
       "        <td id=\"T_13d3b130_2b68_11e8_b6d3_4c72b97d5565row19_col3\" class=\"data row19 col3\" >247.15</td> \n",
       "    </tr></tbody> \n",
       "</table> "
      ],
      "text/plain": [
       "<pandas.io.formats.style.Styler at 0xbd1ed68>"
      ]
     },
     "execution_count": 32,
     "metadata": {},
     "output_type": "execute_result"
    }
   ],
   "source": [
    "df_15_MaxPnL = pd.concat([df_15.sort_values('NetPnL').head(10),\n",
    "                          df_15.sort_values('NetPnL').tail(10)])\n",
    "\n",
    "df_16_MaxPnL = pd.concat([df_16.sort_values('NetPnL').head(10),\n",
    "                          df_16.sort_values('NetPnL').tail(10)])\n",
    "\n",
    "df_15_t1 = df_15_MaxPnL[['Symbol','NetPnL']].reset_index(drop=True) \n",
    "df_16_t1 = df_16_MaxPnL[['Symbol','NetPnL']].reset_index(drop=True)\n",
    "\n",
    "df_ct1 = pd.concat([df_15_t1, df_16_t1], axis=1, keys=['2015', '2016']) \n",
    "df_ct1.rename(columns={'Symbol':'Markets'}, inplace=True)\n",
    "\n",
    "df_ct1.style.applymap(colorMap, subset=[('2015','NetPnL'),(('2016','NetPnL'))])"
   ]
  },
  {
   "cell_type": "markdown",
   "metadata": {},
   "source": [
    "Lets plot the graph now.\n",
    "\n",
    "This is an interesting graph. The magnitude of losses in 2015 compared to 2016 is just ridiculous. Lot of big red strokes downwards for 2015, while for 2016 its just smallish red strokes that seems almost like they want to go into hiding."
   ]
  },
  {
   "cell_type": "code",
   "execution_count": 33,
   "metadata": {
    "scrolled": false
   },
   "outputs": [
    {
     "data": {
      "text/plain": [
       "<matplotlib.text.Text at 0xbeb7a20>"
      ]
     },
     "execution_count": 33,
     "metadata": {},
     "output_type": "execute_result"
    },
    {
     "data": {
      "image/png": "[encoded data removed]",
      "text/plain": [
       "<matplotlib.figure.Figure at 0xa3ba2e8>"
      ]
     },
     "metadata": {},
     "output_type": "display_data"
    }
   ],
   "source": [
    "f, (a0, a1) = plt.subplots(1, 2, sharey=True, figsize=(12,4))\n",
    "f.suptitle('Max PnL by Individual Trades')\n",
    "\n",
    "def plotBar_PnL(df, year, ax):\n",
    "    df.plot.bar('Symbol','NetPnL', ax=ax,\n",
    "                            color=colorMapGraph(df, 'NetPnL'),\n",
    "                            alpha=0.7,\n",
    "                            legend=False)\n",
    "    ax.set_title(year)\n",
    "    ax.set_xlabel('Markets', labelpad=10)\n",
    "\n",
    "plotBar_PnL(df_15_MaxPnL, '2015', a0)\n",
    "plotBar_PnL(df_16_MaxPnL, '2016', a1)\n",
    "\n",
    "a0.set_ylabel('Net PnL   (£)')"
   ]
  },
  {
   "cell_type": "markdown",
   "metadata": {},
   "source": [
    "### Aggregate PnL by Markets"
   ]
  },
  {
   "cell_type": "markdown",
   "metadata": {},
   "source": [
    "With the aggregate PnL, we see that the biggest losses came from CHFJPY in 2015 with losses of around £2000, while for 2016, it came from Silver (XAG) with loss of around £300.\n",
    "\n",
    "Here as well, we have brough in 20 markets for each year - top 10 profits and top 10 losses.\n",
    "\n",
    "In 2015, EURAUD gave the most profits and in 2016, it was GBPJPY."
   ]
  },
  {
   "cell_type": "code",
   "execution_count": 34,
   "metadata": {},
   "outputs": [
    {
     "data": {
      "text/html": [
       "<style  type=\"text/css\" >\n",
       "    #T_14ba96ac_2b68_11e8_b12b_4c72b97d5565row0_col1 {\n",
       "            color:  red;\n",
       "        }    #T_14ba96ac_2b68_11e8_b12b_4c72b97d5565row0_col3 {\n",
       "            color:  red;\n",
       "        }    #T_14ba96ac_2b68_11e8_b12b_4c72b97d5565row1_col1 {\n",
       "            color:  red;\n",
       "        }    #T_14ba96ac_2b68_11e8_b12b_4c72b97d5565row1_col3 {\n",
       "            color:  red;\n",
       "        }    #T_14ba96ac_2b68_11e8_b12b_4c72b97d5565row2_col1 {\n",
       "            color:  red;\n",
       "        }    #T_14ba96ac_2b68_11e8_b12b_4c72b97d5565row2_col3 {\n",
       "            color:  red;\n",
       "        }    #T_14ba96ac_2b68_11e8_b12b_4c72b97d5565row3_col1 {\n",
       "            color:  red;\n",
       "        }    #T_14ba96ac_2b68_11e8_b12b_4c72b97d5565row3_col3 {\n",
       "            color:  red;\n",
       "        }    #T_14ba96ac_2b68_11e8_b12b_4c72b97d5565row4_col1 {\n",
       "            color:  red;\n",
       "        }    #T_14ba96ac_2b68_11e8_b12b_4c72b97d5565row4_col3 {\n",
       "            color:  red;\n",
       "        }    #T_14ba96ac_2b68_11e8_b12b_4c72b97d5565row5_col1 {\n",
       "            color:  red;\n",
       "        }    #T_14ba96ac_2b68_11e8_b12b_4c72b97d5565row5_col3 {\n",
       "            color:  red;\n",
       "        }    #T_14ba96ac_2b68_11e8_b12b_4c72b97d5565row6_col1 {\n",
       "            color:  red;\n",
       "        }    #T_14ba96ac_2b68_11e8_b12b_4c72b97d5565row6_col3 {\n",
       "            color:  red;\n",
       "        }    #T_14ba96ac_2b68_11e8_b12b_4c72b97d5565row7_col1 {\n",
       "            color:  red;\n",
       "        }    #T_14ba96ac_2b68_11e8_b12b_4c72b97d5565row7_col3 {\n",
       "            color:  red;\n",
       "        }    #T_14ba96ac_2b68_11e8_b12b_4c72b97d5565row8_col1 {\n",
       "            color:  red;\n",
       "        }    #T_14ba96ac_2b68_11e8_b12b_4c72b97d5565row8_col3 {\n",
       "            color:  red;\n",
       "        }    #T_14ba96ac_2b68_11e8_b12b_4c72b97d5565row9_col1 {\n",
       "            color:  red;\n",
       "        }    #T_14ba96ac_2b68_11e8_b12b_4c72b97d5565row9_col3 {\n",
       "            color:  red;\n",
       "        }    #T_14ba96ac_2b68_11e8_b12b_4c72b97d5565row10_col1 {\n",
       "            color:  green;\n",
       "        }    #T_14ba96ac_2b68_11e8_b12b_4c72b97d5565row10_col3 {\n",
       "            color:  green;\n",
       "        }    #T_14ba96ac_2b68_11e8_b12b_4c72b97d5565row11_col1 {\n",
       "            color:  green;\n",
       "        }    #T_14ba96ac_2b68_11e8_b12b_4c72b97d5565row11_col3 {\n",
       "            color:  green;\n",
       "        }    #T_14ba96ac_2b68_11e8_b12b_4c72b97d5565row12_col1 {\n",
       "            color:  green;\n",
       "        }    #T_14ba96ac_2b68_11e8_b12b_4c72b97d5565row12_col3 {\n",
       "            color:  green;\n",
       "        }    #T_14ba96ac_2b68_11e8_b12b_4c72b97d5565row13_col1 {\n",
       "            color:  green;\n",
       "        }    #T_14ba96ac_2b68_11e8_b12b_4c72b97d5565row13_col3 {\n",
       "            color:  green;\n",
       "        }    #T_14ba96ac_2b68_11e8_b12b_4c72b97d5565row14_col1 {\n",
       "            color:  green;\n",
       "        }    #T_14ba96ac_2b68_11e8_b12b_4c72b97d5565row14_col3 {\n",
       "            color:  green;\n",
       "        }    #T_14ba96ac_2b68_11e8_b12b_4c72b97d5565row15_col1 {\n",
       "            color:  green;\n",
       "        }    #T_14ba96ac_2b68_11e8_b12b_4c72b97d5565row15_col3 {\n",
       "            color:  green;\n",
       "        }    #T_14ba96ac_2b68_11e8_b12b_4c72b97d5565row16_col1 {\n",
       "            color:  green;\n",
       "        }    #T_14ba96ac_2b68_11e8_b12b_4c72b97d5565row16_col3 {\n",
       "            color:  green;\n",
       "        }    #T_14ba96ac_2b68_11e8_b12b_4c72b97d5565row17_col1 {\n",
       "            color:  green;\n",
       "        }    #T_14ba96ac_2b68_11e8_b12b_4c72b97d5565row17_col3 {\n",
       "            color:  green;\n",
       "        }    #T_14ba96ac_2b68_11e8_b12b_4c72b97d5565row18_col1 {\n",
       "            color:  green;\n",
       "        }    #T_14ba96ac_2b68_11e8_b12b_4c72b97d5565row18_col3 {\n",
       "            color:  green;\n",
       "        }    #T_14ba96ac_2b68_11e8_b12b_4c72b97d5565row19_col1 {\n",
       "            color:  green;\n",
       "        }    #T_14ba96ac_2b68_11e8_b12b_4c72b97d5565row19_col3 {\n",
       "            color:  green;\n",
       "        }</style>  \n",
       "<table id=\"T_14ba96ac_2b68_11e8_b12b_4c72b97d5565\" > \n",
       "<thead>    <tr> \n",
       "        <th class=\"blank level0\" ></th> \n",
       "        <th class=\"col_heading level0 col0\" colspan=2>2015</th> \n",
       "        <th class=\"col_heading level0 col2\" colspan=2>2016</th> \n",
       "    </tr>    <tr> \n",
       "        <th class=\"blank level1\" ></th> \n",
       "        <th class=\"col_heading level1 col0\" >Markets</th> \n",
       "        <th class=\"col_heading level1 col1\" >NetPnL</th> \n",
       "        <th class=\"col_heading level1 col2\" >Markets</th> \n",
       "        <th class=\"col_heading level1 col3\" >NetPnL</th> \n",
       "    </tr></thead> \n",
       "<tbody>    <tr> \n",
       "        <th id=\"T_14ba96ac_2b68_11e8_b12b_4c72b97d5565\" class=\"row_heading level0 row0\" >0</th> \n",
       "        <td id=\"T_14ba96ac_2b68_11e8_b12b_4c72b97d5565row0_col0\" class=\"data row0 col0\" >CHF/JPY</td> \n",
       "        <td id=\"T_14ba96ac_2b68_11e8_b12b_4c72b97d5565row0_col1\" class=\"data row0 col1\" >-1934.51</td> \n",
       "        <td id=\"T_14ba96ac_2b68_11e8_b12b_4c72b97d5565row0_col2\" class=\"data row0 col2\" >XAG/USD</td> \n",
       "        <td id=\"T_14ba96ac_2b68_11e8_b12b_4c72b97d5565row0_col3\" class=\"data row0 col3\" >-308.47</td> \n",
       "    </tr>    <tr> \n",
       "        <th id=\"T_14ba96ac_2b68_11e8_b12b_4c72b97d5565\" class=\"row_heading level0 row1\" >1</th> \n",
       "        <td id=\"T_14ba96ac_2b68_11e8_b12b_4c72b97d5565row1_col0\" class=\"data row1 col0\" >USD/CHF</td> \n",
       "        <td id=\"T_14ba96ac_2b68_11e8_b12b_4c72b97d5565row1_col1\" class=\"data row1 col1\" >-1851.32</td> \n",
       "        <td id=\"T_14ba96ac_2b68_11e8_b12b_4c72b97d5565row1_col2\" class=\"data row1 col2\" >Copper</td> \n",
       "        <td id=\"T_14ba96ac_2b68_11e8_b12b_4c72b97d5565row1_col3\" class=\"data row1 col3\" >-207.09</td> \n",
       "    </tr>    <tr> \n",
       "        <th id=\"T_14ba96ac_2b68_11e8_b12b_4c72b97d5565\" class=\"row_heading level0 row2\" >2</th> \n",
       "        <td id=\"T_14ba96ac_2b68_11e8_b12b_4c72b97d5565row2_col0\" class=\"data row2 col0\" >GBP/JPY</td> \n",
       "        <td id=\"T_14ba96ac_2b68_11e8_b12b_4c72b97d5565row2_col1\" class=\"data row2 col1\" >-799.06</td> \n",
       "        <td id=\"T_14ba96ac_2b68_11e8_b12b_4c72b97d5565row2_col2\" class=\"data row2 col2\" >UKOil</td> \n",
       "        <td id=\"T_14ba96ac_2b68_11e8_b12b_4c72b97d5565row2_col3\" class=\"data row2 col3\" >-152.76</td> \n",
       "    </tr>    <tr> \n",
       "        <th id=\"T_14ba96ac_2b68_11e8_b12b_4c72b97d5565\" class=\"row_heading level0 row3\" >3</th> \n",
       "        <td id=\"T_14ba96ac_2b68_11e8_b12b_4c72b97d5565row3_col0\" class=\"data row3 col0\" >GBP/CAD</td> \n",
       "        <td id=\"T_14ba96ac_2b68_11e8_b12b_4c72b97d5565row3_col1\" class=\"data row3 col1\" >-616.57</td> \n",
       "        <td id=\"T_14ba96ac_2b68_11e8_b12b_4c72b97d5565row3_col2\" class=\"data row3 col2\" >USD/NOK</td> \n",
       "        <td id=\"T_14ba96ac_2b68_11e8_b12b_4c72b97d5565row3_col3\" class=\"data row3 col3\" >-151.38</td> \n",
       "    </tr>    <tr> \n",
       "        <th id=\"T_14ba96ac_2b68_11e8_b12b_4c72b97d5565\" class=\"row_heading level0 row4\" >4</th> \n",
       "        <td id=\"T_14ba96ac_2b68_11e8_b12b_4c72b97d5565row4_col0\" class=\"data row4 col0\" >NZD/USD</td> \n",
       "        <td id=\"T_14ba96ac_2b68_11e8_b12b_4c72b97d5565row4_col1\" class=\"data row4 col1\" >-498.79</td> \n",
       "        <td id=\"T_14ba96ac_2b68_11e8_b12b_4c72b97d5565row4_col2\" class=\"data row4 col2\" >NZD/CHF</td> \n",
       "        <td id=\"T_14ba96ac_2b68_11e8_b12b_4c72b97d5565row4_col3\" class=\"data row4 col3\" >-136.57</td> \n",
       "    </tr>    <tr> \n",
       "        <th id=\"T_14ba96ac_2b68_11e8_b12b_4c72b97d5565\" class=\"row_heading level0 row5\" >5</th> \n",
       "        <td id=\"T_14ba96ac_2b68_11e8_b12b_4c72b97d5565row5_col0\" class=\"data row5 col0\" >AUD/USD</td> \n",
       "        <td id=\"T_14ba96ac_2b68_11e8_b12b_4c72b97d5565row5_col1\" class=\"data row5 col1\" >-329.97</td> \n",
       "        <td id=\"T_14ba96ac_2b68_11e8_b12b_4c72b97d5565row5_col2\" class=\"data row5 col2\" >EUSTX50</td> \n",
       "        <td id=\"T_14ba96ac_2b68_11e8_b12b_4c72b97d5565row5_col3\" class=\"data row5 col3\" >-124.59</td> \n",
       "    </tr>    <tr> \n",
       "        <th id=\"T_14ba96ac_2b68_11e8_b12b_4c72b97d5565\" class=\"row_heading level0 row6\" >6</th> \n",
       "        <td id=\"T_14ba96ac_2b68_11e8_b12b_4c72b97d5565row6_col0\" class=\"data row6 col0\" >EUR/TRY</td> \n",
       "        <td id=\"T_14ba96ac_2b68_11e8_b12b_4c72b97d5565row6_col1\" class=\"data row6 col1\" >-284.14</td> \n",
       "        <td id=\"T_14ba96ac_2b68_11e8_b12b_4c72b97d5565row6_col2\" class=\"data row6 col2\" >NZD/USD</td> \n",
       "        <td id=\"T_14ba96ac_2b68_11e8_b12b_4c72b97d5565row6_col3\" class=\"data row6 col3\" >-124.55</td> \n",
       "    </tr>    <tr> \n",
       "        <th id=\"T_14ba96ac_2b68_11e8_b12b_4c72b97d5565\" class=\"row_heading level0 row7\" >7</th> \n",
       "        <td id=\"T_14ba96ac_2b68_11e8_b12b_4c72b97d5565row7_col0\" class=\"data row7 col0\" >EUR/NZD</td> \n",
       "        <td id=\"T_14ba96ac_2b68_11e8_b12b_4c72b97d5565row7_col1\" class=\"data row7 col1\" >-263.98</td> \n",
       "        <td id=\"T_14ba96ac_2b68_11e8_b12b_4c72b97d5565row7_col2\" class=\"data row7 col2\" >USD/CAD</td> \n",
       "        <td id=\"T_14ba96ac_2b68_11e8_b12b_4c72b97d5565row7_col3\" class=\"data row7 col3\" >-124.49</td> \n",
       "    </tr>    <tr> \n",
       "        <th id=\"T_14ba96ac_2b68_11e8_b12b_4c72b97d5565\" class=\"row_heading level0 row8\" >8</th> \n",
       "        <td id=\"T_14ba96ac_2b68_11e8_b12b_4c72b97d5565row8_col0\" class=\"data row8 col0\" >AUD/JPY</td> \n",
       "        <td id=\"T_14ba96ac_2b68_11e8_b12b_4c72b97d5565row8_col1\" class=\"data row8 col1\" >-179.77</td> \n",
       "        <td id=\"T_14ba96ac_2b68_11e8_b12b_4c72b97d5565row8_col2\" class=\"data row8 col2\" >CHF/JPY</td> \n",
       "        <td id=\"T_14ba96ac_2b68_11e8_b12b_4c72b97d5565row8_col3\" class=\"data row8 col3\" >-113.44</td> \n",
       "    </tr>    <tr> \n",
       "        <th id=\"T_14ba96ac_2b68_11e8_b12b_4c72b97d5565\" class=\"row_heading level0 row9\" >9</th> \n",
       "        <td id=\"T_14ba96ac_2b68_11e8_b12b_4c72b97d5565row9_col0\" class=\"data row9 col0\" >EUSTX50</td> \n",
       "        <td id=\"T_14ba96ac_2b68_11e8_b12b_4c72b97d5565row9_col1\" class=\"data row9 col1\" >-160.35</td> \n",
       "        <td id=\"T_14ba96ac_2b68_11e8_b12b_4c72b97d5565row9_col2\" class=\"data row9 col2\" >EUR/USD</td> \n",
       "        <td id=\"T_14ba96ac_2b68_11e8_b12b_4c72b97d5565row9_col3\" class=\"data row9 col3\" >-111.91</td> \n",
       "    </tr>    <tr> \n",
       "        <th id=\"T_14ba96ac_2b68_11e8_b12b_4c72b97d5565\" class=\"row_heading level0 row10\" >10</th> \n",
       "        <td id=\"T_14ba96ac_2b68_11e8_b12b_4c72b97d5565row10_col0\" class=\"data row10 col0\" >EUR/CAD</td> \n",
       "        <td id=\"T_14ba96ac_2b68_11e8_b12b_4c72b97d5565row10_col1\" class=\"data row10 col1\" >63.49</td> \n",
       "        <td id=\"T_14ba96ac_2b68_11e8_b12b_4c72b97d5565row10_col2\" class=\"data row10 col2\" >AUD/JPY</td> \n",
       "        <td id=\"T_14ba96ac_2b68_11e8_b12b_4c72b97d5565row10_col3\" class=\"data row10 col3\" >56.51</td> \n",
       "    </tr>    <tr> \n",
       "        <th id=\"T_14ba96ac_2b68_11e8_b12b_4c72b97d5565\" class=\"row_heading level0 row11\" >11</th> \n",
       "        <td id=\"T_14ba96ac_2b68_11e8_b12b_4c72b97d5565row11_col0\" class=\"data row11 col0\" >USD/ZAR</td> \n",
       "        <td id=\"T_14ba96ac_2b68_11e8_b12b_4c72b97d5565row11_col1\" class=\"data row11 col1\" >72.56</td> \n",
       "        <td id=\"T_14ba96ac_2b68_11e8_b12b_4c72b97d5565row11_col2\" class=\"data row11 col2\" >NGAS</td> \n",
       "        <td id=\"T_14ba96ac_2b68_11e8_b12b_4c72b97d5565row11_col3\" class=\"data row11 col3\" >68.65</td> \n",
       "    </tr>    <tr> \n",
       "        <th id=\"T_14ba96ac_2b68_11e8_b12b_4c72b97d5565\" class=\"row_heading level0 row12\" >12</th> \n",
       "        <td id=\"T_14ba96ac_2b68_11e8_b12b_4c72b97d5565row12_col0\" class=\"data row12 col0\" >EUR/USD</td> \n",
       "        <td id=\"T_14ba96ac_2b68_11e8_b12b_4c72b97d5565row12_col1\" class=\"data row12 col1\" >85.26</td> \n",
       "        <td id=\"T_14ba96ac_2b68_11e8_b12b_4c72b97d5565row12_col2\" class=\"data row12 col2\" >NZD/JPY</td> \n",
       "        <td id=\"T_14ba96ac_2b68_11e8_b12b_4c72b97d5565row12_col3\" class=\"data row12 col3\" >70.5</td> \n",
       "    </tr>    <tr> \n",
       "        <th id=\"T_14ba96ac_2b68_11e8_b12b_4c72b97d5565\" class=\"row_heading level0 row13\" >13</th> \n",
       "        <td id=\"T_14ba96ac_2b68_11e8_b12b_4c72b97d5565row13_col0\" class=\"data row13 col0\" >USD/TRY</td> \n",
       "        <td id=\"T_14ba96ac_2b68_11e8_b12b_4c72b97d5565row13_col1\" class=\"data row13 col1\" >121.76</td> \n",
       "        <td id=\"T_14ba96ac_2b68_11e8_b12b_4c72b97d5565row13_col2\" class=\"data row13 col2\" >USD/MXN</td> \n",
       "        <td id=\"T_14ba96ac_2b68_11e8_b12b_4c72b97d5565row13_col3\" class=\"data row13 col3\" >72.77</td> \n",
       "    </tr>    <tr> \n",
       "        <th id=\"T_14ba96ac_2b68_11e8_b12b_4c72b97d5565\" class=\"row_heading level0 row14\" >14</th> \n",
       "        <td id=\"T_14ba96ac_2b68_11e8_b12b_4c72b97d5565row14_col0\" class=\"data row14 col0\" >CAD/JPY</td> \n",
       "        <td id=\"T_14ba96ac_2b68_11e8_b12b_4c72b97d5565row14_col1\" class=\"data row14 col1\" >155.18</td> \n",
       "        <td id=\"T_14ba96ac_2b68_11e8_b12b_4c72b97d5565row14_col2\" class=\"data row14 col2\" >ZAR/JPY</td> \n",
       "        <td id=\"T_14ba96ac_2b68_11e8_b12b_4c72b97d5565row14_col3\" class=\"data row14 col3\" >86.24</td> \n",
       "    </tr>    <tr> \n",
       "        <th id=\"T_14ba96ac_2b68_11e8_b12b_4c72b97d5565\" class=\"row_heading level0 row15\" >15</th> \n",
       "        <td id=\"T_14ba96ac_2b68_11e8_b12b_4c72b97d5565row15_col0\" class=\"data row15 col0\" >UKOil</td> \n",
       "        <td id=\"T_14ba96ac_2b68_11e8_b12b_4c72b97d5565row15_col1\" class=\"data row15 col1\" >205.31</td> \n",
       "        <td id=\"T_14ba96ac_2b68_11e8_b12b_4c72b97d5565row15_col2\" class=\"data row15 col2\" >EUR/AUD</td> \n",
       "        <td id=\"T_14ba96ac_2b68_11e8_b12b_4c72b97d5565row15_col3\" class=\"data row15 col3\" >93.54</td> \n",
       "    </tr>    <tr> \n",
       "        <th id=\"T_14ba96ac_2b68_11e8_b12b_4c72b97d5565\" class=\"row_heading level0 row16\" >16</th> \n",
       "        <td id=\"T_14ba96ac_2b68_11e8_b12b_4c72b97d5565row16_col0\" class=\"data row16 col0\" >NZD/CAD</td> \n",
       "        <td id=\"T_14ba96ac_2b68_11e8_b12b_4c72b97d5565row16_col1\" class=\"data row16 col1\" >224.34</td> \n",
       "        <td id=\"T_14ba96ac_2b68_11e8_b12b_4c72b97d5565row16_col2\" class=\"data row16 col2\" >USOil</td> \n",
       "        <td id=\"T_14ba96ac_2b68_11e8_b12b_4c72b97d5565row16_col3\" class=\"data row16 col3\" >123.52</td> \n",
       "    </tr>    <tr> \n",
       "        <th id=\"T_14ba96ac_2b68_11e8_b12b_4c72b97d5565\" class=\"row_heading level0 row17\" >17</th> \n",
       "        <td id=\"T_14ba96ac_2b68_11e8_b12b_4c72b97d5565row17_col0\" class=\"data row17 col0\" >GBP/AUD</td> \n",
       "        <td id=\"T_14ba96ac_2b68_11e8_b12b_4c72b97d5565row17_col1\" class=\"data row17 col1\" >433.58</td> \n",
       "        <td id=\"T_14ba96ac_2b68_11e8_b12b_4c72b97d5565row17_col2\" class=\"data row17 col2\" >AUD/CHF</td> \n",
       "        <td id=\"T_14ba96ac_2b68_11e8_b12b_4c72b97d5565row17_col3\" class=\"data row17 col3\" >126.44</td> \n",
       "    </tr>    <tr> \n",
       "        <th id=\"T_14ba96ac_2b68_11e8_b12b_4c72b97d5565\" class=\"row_heading level0 row18\" >18</th> \n",
       "        <td id=\"T_14ba96ac_2b68_11e8_b12b_4c72b97d5565row18_col0\" class=\"data row18 col0\" >EUR/JPY</td> \n",
       "        <td id=\"T_14ba96ac_2b68_11e8_b12b_4c72b97d5565row18_col1\" class=\"data row18 col1\" >451.7</td> \n",
       "        <td id=\"T_14ba96ac_2b68_11e8_b12b_4c72b97d5565row18_col2\" class=\"data row18 col2\" >CAD/JPY</td> \n",
       "        <td id=\"T_14ba96ac_2b68_11e8_b12b_4c72b97d5565row18_col3\" class=\"data row18 col3\" >149.98</td> \n",
       "    </tr>    <tr> \n",
       "        <th id=\"T_14ba96ac_2b68_11e8_b12b_4c72b97d5565\" class=\"row_heading level0 row19\" >19</th> \n",
       "        <td id=\"T_14ba96ac_2b68_11e8_b12b_4c72b97d5565row19_col0\" class=\"data row19 col0\" >EUR/AUD</td> \n",
       "        <td id=\"T_14ba96ac_2b68_11e8_b12b_4c72b97d5565row19_col1\" class=\"data row19 col1\" >551.95</td> \n",
       "        <td id=\"T_14ba96ac_2b68_11e8_b12b_4c72b97d5565row19_col2\" class=\"data row19 col2\" >GBP/JPY</td> \n",
       "        <td id=\"T_14ba96ac_2b68_11e8_b12b_4c72b97d5565row19_col3\" class=\"data row19 col3\" >398.29</td> \n",
       "    </tr></tbody> \n",
       "</table> "
      ],
      "text/plain": [
       "<pandas.io.formats.style.Styler at 0xc034c50>"
      ]
     },
     "execution_count": 34,
     "metadata": {},
     "output_type": "execute_result"
    }
   ],
   "source": [
    "def concat_aggPnL(df):\n",
    "    return pd.concat([\n",
    "        df.groupby('Symbol', as_index=False)['NetPnL'].sum().sort_values('NetPnL').head(10),\n",
    "        df.groupby('Symbol', as_index=False)['NetPnL'].sum().sort_values('NetPnL').tail(10)])\n",
    "    \n",
    "df_15_aggPnL = concat_aggPnL(df_15)\n",
    "df_16_aggPnL = concat_aggPnL(df_16)\n",
    "\n",
    "df_15_t2 = df_15_aggPnL.reset_index(drop=True)\n",
    "df_16_t2 = df_16_aggPnL.reset_index(drop=True)\n",
    "\n",
    "df_ct2 = pd.concat([df_15_t2, df_16_t2], axis=1, keys=['2015', '2016']) \n",
    "df_ct2.rename(columns={'Symbol':'Markets'}, inplace=True)\n",
    "\n",
    "df_ct2.style.applymap(colorMap, subset=[('2015','NetPnL'),(('2016','NetPnL'))])"
   ]
  },
  {
   "cell_type": "markdown",
   "metadata": {},
   "source": [
    "Lets plot the last graph of this analysis. \n",
    "\n",
    "And I guess the picture says it all."
   ]
  },
  {
   "cell_type": "code",
   "execution_count": 35,
   "metadata": {},
   "outputs": [
    {
     "data": {
      "text/plain": [
       "<matplotlib.text.Text at 0xc0c4eb8>"
      ]
     },
     "execution_count": 35,
     "metadata": {},
     "output_type": "execute_result"
    },
    {
     "data": {
      "image/png": "[encoded data removed]",
      "text/plain": [
       "<matplotlib.figure.Figure at 0xbbf0518>"
      ]
     },
     "metadata": {},
     "output_type": "display_data"
    }
   ],
   "source": [
    "f, (a0, a1) = plt.subplots(1, 2, sharey=True, figsize=(12,4))\n",
    "f.suptitle('Aggregate PnL by Markets')\n",
    "\n",
    "plotBar_PnL(df_15_aggPnL, '2015', a0)\n",
    "plotBar_PnL(df_16_aggPnL, '2016', a1)\n",
    "\n",
    "a0.set_ylabel('Net PnL   (£)')"
   ]
  }
 ],
 "metadata": {
  "kernelspec": {
   "display_name": "Python 3",
   "language": "python",
   "name": "python3"
  },
  "language_info": {
   "codemirror_mode": {
    "name": "ipython",
    "version": 3
   },
   "file_extension": ".py",
   "mimetype": "text/x-python",
   "name": "python",
   "nbconvert_exporter": "python",
   "pygments_lexer": "ipython3",
   "version": "3.6.1"
  }
 },
 "nbformat": 4,
 "nbformat_minor": 2
}
